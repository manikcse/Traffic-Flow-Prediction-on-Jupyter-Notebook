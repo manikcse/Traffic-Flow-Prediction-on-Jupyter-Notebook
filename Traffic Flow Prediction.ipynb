{
 "cells": [
  {
   "cell_type": "markdown",
   "id": "b1083b91",
   "metadata": {},
   "source": [
    "# Task"
   ]
  },
  {
   "cell_type": "markdown",
   "id": "bbf59ec3",
   "metadata": {},
   "source": [
    "• Read the literature on traffic flow forecasting<br>\n",
    "• Summarize the latest prediction algorithms by category<br>\n",
    "• Propose your own predictive model (using deep learning)<br>\n",
    "• Download public data sets<br>\n",
    "• Train and optimize the model<br>\n",
    "• Test and analyze the accuracy, sensitivity and robustness of the model<br>\n",
    "• Compare the performance of your model with other novel algorithms (optinal)<br>\n", <br>"
   ]
  },
  {
   "cell_type": "code",
   "execution_count": 1,
   "id": "11f191de",
   "metadata": {},
   "outputs": [],
   "source": [
    "### Keras and Tensorflow >2.0"
   ]
  },
  {
   "cell_type": "code",
   "execution_count": 3,
   "id": "20b42c82",
   "metadata": {},
   "outputs": [],
   "source": [
    "import os\n",
    "import timeit\n",
    "from datetime import datetime\n",
    "import numpy as np\n",
    "import pandas as pd"
   ]
  },
  {
   "cell_type": "code",
   "execution_count": 4,
   "id": "bb69e1e6",
   "metadata": {},
   "outputs": [],
   "source": [
    "df=pd.read_csv('volume-005es18017-I-2015-60minx.csv')"
   ]
  },
  {
   "cell_type": "code",
   "execution_count": 5,
   "id": "cbbb2bbe",
   "metadata": {},
   "outputs": [
    {
     "data": {
      "text/html": [
       "<div>\n",
       "<style scoped>\n",
       "    .dataframe tbody tr th:only-of-type {\n",
       "        vertical-align: middle;\n",
       "    }\n",
       "\n",
       "    .dataframe tbody tr th {\n",
       "        vertical-align: top;\n",
       "    }\n",
       "\n",
       "    .dataframe thead th {\n",
       "        text-align: right;\n",
       "    }\n",
       "</style>\n",
       "<table border=\"1\" class=\"dataframe\">\n",
       "  <thead>\n",
       "    <tr style=\"text-align: right;\">\n",
       "      <th></th>\n",
       "      <th>date</th>\n",
       "      <th>year</th>\n",
       "      <th>month</th>\n",
       "      <th>day</th>\n",
       "      <th>hour</th>\n",
       "      <th>minute</th>\n",
       "      <th>weekday</th>\n",
       "      <th>holiday</th>\n",
       "      <th>daylight</th>\n",
       "      <th>rain</th>\n",
       "      <th>volume</th>\n",
       "    </tr>\n",
       "  </thead>\n",
       "  <tbody>\n",
       "    <tr>\n",
       "      <th>0</th>\n",
       "      <td>01/01/2015 00:00</td>\n",
       "      <td>2015</td>\n",
       "      <td>1</td>\n",
       "      <td>1</td>\n",
       "      <td>0</td>\n",
       "      <td>0</td>\n",
       "      <td>4</td>\n",
       "      <td>0.5</td>\n",
       "      <td>0</td>\n",
       "      <td>0</td>\n",
       "      <td>7752</td>\n",
       "    </tr>\n",
       "    <tr>\n",
       "      <th>1</th>\n",
       "      <td>01/01/2015 01:00</td>\n",
       "      <td>2015</td>\n",
       "      <td>1</td>\n",
       "      <td>1</td>\n",
       "      <td>1</td>\n",
       "      <td>0</td>\n",
       "      <td>4</td>\n",
       "      <td>0.5</td>\n",
       "      <td>0</td>\n",
       "      <td>0</td>\n",
       "      <td>9324</td>\n",
       "    </tr>\n",
       "    <tr>\n",
       "      <th>2</th>\n",
       "      <td>01/01/2015 02:00</td>\n",
       "      <td>2015</td>\n",
       "      <td>1</td>\n",
       "      <td>1</td>\n",
       "      <td>2</td>\n",
       "      <td>0</td>\n",
       "      <td>4</td>\n",
       "      <td>0.5</td>\n",
       "      <td>0</td>\n",
       "      <td>0</td>\n",
       "      <td>5760</td>\n",
       "    </tr>\n",
       "    <tr>\n",
       "      <th>3</th>\n",
       "      <td>01/01/2015 03:00</td>\n",
       "      <td>2015</td>\n",
       "      <td>1</td>\n",
       "      <td>1</td>\n",
       "      <td>3</td>\n",
       "      <td>0</td>\n",
       "      <td>4</td>\n",
       "      <td>0.5</td>\n",
       "      <td>0</td>\n",
       "      <td>0</td>\n",
       "      <td>3024</td>\n",
       "    </tr>\n",
       "    <tr>\n",
       "      <th>4</th>\n",
       "      <td>01/01/2015 04:00</td>\n",
       "      <td>2015</td>\n",
       "      <td>1</td>\n",
       "      <td>1</td>\n",
       "      <td>4</td>\n",
       "      <td>0</td>\n",
       "      <td>4</td>\n",
       "      <td>0.5</td>\n",
       "      <td>0</td>\n",
       "      <td>0</td>\n",
       "      <td>1824</td>\n",
       "    </tr>\n",
       "  </tbody>\n",
       "</table>\n",
       "</div>"
      ],
      "text/plain": [
       "               date  year  month  day  hour  minute  weekday  holiday  \\\n",
       "0  01/01/2015 00:00  2015      1    1     0       0        4      0.5   \n",
       "1  01/01/2015 01:00  2015      1    1     1       0        4      0.5   \n",
       "2  01/01/2015 02:00  2015      1    1     2       0        4      0.5   \n",
       "3  01/01/2015 03:00  2015      1    1     3       0        4      0.5   \n",
       "4  01/01/2015 04:00  2015      1    1     4       0        4      0.5   \n",
       "\n",
       "   daylight  rain  volume  \n",
       "0         0     0    7752  \n",
       "1         0     0    9324  \n",
       "2         0     0    5760  \n",
       "3         0     0    3024  \n",
       "4         0     0    1824  "
      ]
     },
     "execution_count": 5,
     "metadata": {},
     "output_type": "execute_result"
    }
   ],
   "source": [
    "#First 5 rows of data are first days of the year 2015\n",
    "df.head()"
   ]
  },
  {
   "cell_type": "code",
   "execution_count": 6,
   "id": "f712b6c0",
   "metadata": {},
   "outputs": [
    {
     "data": {
      "text/html": [
       "<div>\n",
       "<style scoped>\n",
       "    .dataframe tbody tr th:only-of-type {\n",
       "        vertical-align: middle;\n",
       "    }\n",
       "\n",
       "    .dataframe tbody tr th {\n",
       "        vertical-align: top;\n",
       "    }\n",
       "\n",
       "    .dataframe thead th {\n",
       "        text-align: right;\n",
       "    }\n",
       "</style>\n",
       "<table border=\"1\" class=\"dataframe\">\n",
       "  <thead>\n",
       "    <tr style=\"text-align: right;\">\n",
       "      <th></th>\n",
       "      <th>date</th>\n",
       "      <th>year</th>\n",
       "      <th>month</th>\n",
       "      <th>day</th>\n",
       "      <th>hour</th>\n",
       "      <th>minute</th>\n",
       "      <th>weekday</th>\n",
       "      <th>holiday</th>\n",
       "      <th>daylight</th>\n",
       "      <th>rain</th>\n",
       "      <th>volume</th>\n",
       "    </tr>\n",
       "  </thead>\n",
       "  <tbody>\n",
       "    <tr>\n",
       "      <th>8735</th>\n",
       "      <td>31/12/2015 19:00</td>\n",
       "      <td>2015</td>\n",
       "      <td>12</td>\n",
       "      <td>31</td>\n",
       "      <td>19</td>\n",
       "      <td>0</td>\n",
       "      <td>4</td>\n",
       "      <td>0.0</td>\n",
       "      <td>0</td>\n",
       "      <td>0</td>\n",
       "      <td>11652</td>\n",
       "    </tr>\n",
       "    <tr>\n",
       "      <th>8736</th>\n",
       "      <td>31/12/2015 20:00</td>\n",
       "      <td>2015</td>\n",
       "      <td>12</td>\n",
       "      <td>31</td>\n",
       "      <td>20</td>\n",
       "      <td>0</td>\n",
       "      <td>4</td>\n",
       "      <td>0.0</td>\n",
       "      <td>0</td>\n",
       "      <td>0</td>\n",
       "      <td>9876</td>\n",
       "    </tr>\n",
       "    <tr>\n",
       "      <th>8737</th>\n",
       "      <td>31/12/2015 21:00</td>\n",
       "      <td>2015</td>\n",
       "      <td>12</td>\n",
       "      <td>31</td>\n",
       "      <td>21</td>\n",
       "      <td>0</td>\n",
       "      <td>4</td>\n",
       "      <td>0.0</td>\n",
       "      <td>0</td>\n",
       "      <td>0</td>\n",
       "      <td>8088</td>\n",
       "    </tr>\n",
       "    <tr>\n",
       "      <th>8738</th>\n",
       "      <td>31/12/2015 22:00</td>\n",
       "      <td>2015</td>\n",
       "      <td>12</td>\n",
       "      <td>31</td>\n",
       "      <td>22</td>\n",
       "      <td>0</td>\n",
       "      <td>4</td>\n",
       "      <td>0.0</td>\n",
       "      <td>0</td>\n",
       "      <td>0</td>\n",
       "      <td>6852</td>\n",
       "    </tr>\n",
       "    <tr>\n",
       "      <th>8739</th>\n",
       "      <td>31/12/2015 23:00</td>\n",
       "      <td>2015</td>\n",
       "      <td>12</td>\n",
       "      <td>31</td>\n",
       "      <td>23</td>\n",
       "      <td>0</td>\n",
       "      <td>4</td>\n",
       "      <td>0.0</td>\n",
       "      <td>0</td>\n",
       "      <td>0</td>\n",
       "      <td>5556</td>\n",
       "    </tr>\n",
       "  </tbody>\n",
       "</table>\n",
       "</div>"
      ],
      "text/plain": [
       "                  date  year  month  day  hour  minute  weekday  holiday  \\\n",
       "8735  31/12/2015 19:00  2015     12   31    19       0        4      0.0   \n",
       "8736  31/12/2015 20:00  2015     12   31    20       0        4      0.0   \n",
       "8737  31/12/2015 21:00  2015     12   31    21       0        4      0.0   \n",
       "8738  31/12/2015 22:00  2015     12   31    22       0        4      0.0   \n",
       "8739  31/12/2015 23:00  2015     12   31    23       0        4      0.0   \n",
       "\n",
       "      daylight  rain  volume  \n",
       "8735         0     0   11652  \n",
       "8736         0     0    9876  \n",
       "8737         0     0    8088  \n",
       "8738         0     0    6852  \n",
       "8739         0     0    5556  "
      ]
     },
     "execution_count": 6,
     "metadata": {},
     "output_type": "execute_result"
    }
   ],
   "source": [
    "#Last 5 rows of data are last days of the year 2015\n",
    "df.tail()"
   ]
  },
  {
   "cell_type": "code",
   "execution_count": 7,
   "id": "7ee095e9",
   "metadata": {},
   "outputs": [],
   "source": [
    "df1=df.reset_index()['volume']"
   ]
  },
  {
   "cell_type": "code",
   "execution_count": 8,
   "id": "808631bc",
   "metadata": {},
   "outputs": [
    {
     "data": {
      "text/plain": [
       "0        7752\n",
       "1        9324\n",
       "2        5760\n",
       "3        3024\n",
       "4        1824\n",
       "        ...  \n",
       "8735    11652\n",
       "8736     9876\n",
       "8737     8088\n",
       "8738     6852\n",
       "8739     5556\n",
       "Name: volume, Length: 8740, dtype: int64"
      ]
     },
     "execution_count": 8,
     "metadata": {},
     "output_type": "execute_result"
    }
   ],
   "source": [
    "df1"
   ]
  },
  {
   "cell_type": "code",
   "execution_count": 9,
   "id": "dc7711ba",
   "metadata": {},
   "outputs": [],
   "source": [
    "%matplotlib inline"
   ]
  },
  {
   "cell_type": "code",
   "execution_count": 10,
   "id": "3436972e",
   "metadata": {},
   "outputs": [
    {
     "data": {
      "text/plain": [
       "[<matplotlib.lines.Line2D at 0x1a1c8e1e190>]"
      ]
     },
     "execution_count": 10,
     "metadata": {},
     "output_type": "execute_result"
    },
    {
     "data": {
      "image/png": "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\n",
      "text/plain": [
       "<Figure size 720x720 with 1 Axes>"
      ]
     },
     "metadata": {
      "needs_background": "light"
     },
     "output_type": "display_data"
    }
   ],
   "source": [
    "import matplotlib.pyplot as plt\n",
    "fig = plt.figure(figsize=(10, 10))\n",
    "plt.plot(df1)"
   ]
  },
  {
   "cell_type": "code",
   "execution_count": 11,
   "id": "14ef54d8",
   "metadata": {},
   "outputs": [],
   "source": [
    "### LSTM are sensitive to the scale of the data. so we apply MinMax scaler "
   ]
  },
  {
   "cell_type": "code",
   "execution_count": 12,
   "id": "a2255ae4",
   "metadata": {},
   "outputs": [
    {
     "data": {
      "text/plain": [
       "0        7752\n",
       "1        9324\n",
       "2        5760\n",
       "3        3024\n",
       "4        1824\n",
       "        ...  \n",
       "8735    11652\n",
       "8736     9876\n",
       "8737     8088\n",
       "8738     6852\n",
       "8739     5556\n",
       "Name: volume, Length: 8740, dtype: int64"
      ]
     },
     "execution_count": 12,
     "metadata": {},
     "output_type": "execute_result"
    }
   ],
   "source": [
    "import numpy as np\n",
    "df1"
   ]
  },
  {
   "cell_type": "code",
   "execution_count": 13,
   "id": "4d22924d",
   "metadata": {},
   "outputs": [],
   "source": [
    "from sklearn.preprocessing import MinMaxScaler\n",
    "scaler=MinMaxScaler(feature_range=(0,1))\n",
    "df1=scaler.fit_transform(np.array(df1).reshape(-1,1))"
   ]
  },
  {
   "cell_type": "code",
   "execution_count": 14,
   "id": "849540ef",
   "metadata": {},
   "outputs": [
    {
     "name": "stdout",
     "output_type": "stream",
     "text": [
      "[[0.35154394]\n",
      " [0.42933492]\n",
      " [0.25296912]\n",
      " ...\n",
      " [0.36817102]\n",
      " [0.30700713]\n",
      " [0.24287411]]\n"
     ]
    }
   ],
   "source": [
    "print(df1)"
   ]
  },
  {
   "cell_type": "code",
   "execution_count": 15,
   "id": "3935208e",
   "metadata": {},
   "outputs": [],
   "source": [
    "##splitting dataset into train and test split\n",
    "training_size=int(len(df1)*0.65)\n",
    "test_size=len(df1)-training_size\n",
    "train_data,test_data=df1[0:training_size,:],df1[training_size:len(df1),:1]"
   ]
  },
  {
   "cell_type": "code",
   "execution_count": 16,
   "id": "7f21cd7c",
   "metadata": {},
   "outputs": [
    {
     "data": {
      "text/plain": [
       "(5681, 3059)"
      ]
     },
     "execution_count": 16,
     "metadata": {},
     "output_type": "execute_result"
    }
   ],
   "source": [
    "training_size,test_size"
   ]
  },
  {
   "cell_type": "code",
   "execution_count": 17,
   "id": "20a84bdd",
   "metadata": {},
   "outputs": [
    {
     "data": {
      "text/plain": [
       "array([[0.35154394],\n",
       "       [0.42933492],\n",
       "       [0.25296912],\n",
       "       ...,\n",
       "       [0.90320665],\n",
       "       [0.90498812],\n",
       "       [0.92933492]])"
      ]
     },
     "execution_count": 17,
     "metadata": {},
     "output_type": "execute_result"
    }
   ],
   "source": [
    "train_data"
   ]
  },
  {
   "cell_type": "code",
   "execution_count": 18,
   "id": "d1feabf6",
   "metadata": {},
   "outputs": [
    {
     "data": {
      "text/plain": [
       "(5681, 3059)"
      ]
     },
     "execution_count": 18,
     "metadata": {},
     "output_type": "execute_result"
    }
   ],
   "source": [
    "len(train_data),len(test_data)"
   ]
  },
  {
   "cell_type": "code",
   "execution_count": 19,
   "id": "63e1e478",
   "metadata": {},
   "outputs": [
    {
     "data": {
      "text/plain": [
       "array([[0.35154394],\n",
       "       [0.42933492],\n",
       "       [0.25296912],\n",
       "       ...,\n",
       "       [0.90320665],\n",
       "       [0.90498812],\n",
       "       [0.92933492]])"
      ]
     },
     "execution_count": 19,
     "metadata": {},
     "output_type": "execute_result"
    }
   ],
   "source": [
    "train_data"
   ]
  },
  {
   "cell_type": "code",
   "execution_count": 20,
   "id": "2ed7398b",
   "metadata": {},
   "outputs": [],
   "source": [
    "import numpy\n",
    "\n",
    "# Convert an array of values into a dataset matrix\n",
    "def create_dataset(dataset, time_step=1):\n",
    "    dataX, dataY = [], []\n",
    "    for i in range(len(dataset)-time_step-1):\n",
    "        a = dataset[i:(i+time_step), 0]            ###i=0, 0,1,2,3-----99   100 \n",
    "        dataX.append(a)\n",
    "        dataY.append(dataset[i + time_step, 0])\n",
    "    return numpy.array(dataX), numpy.array(dataY)"
   ]
  },
  {
   "cell_type": "code",
   "execution_count": 21,
   "id": "47a84d77",
   "metadata": {},
   "outputs": [],
   "source": [
    "# reshape into X=t,t+1,t+2,t+3 and Y=t+4\n",
    "time_step = 100\n",
    "X_train, y_train = create_dataset(train_data, time_step)\n",
    "X_test, ytest = create_dataset(test_data, time_step)"
   ]
  },
  {
   "cell_type": "code",
   "execution_count": 22,
   "id": "51d9ad91",
   "metadata": {},
   "outputs": [
    {
     "name": "stdout",
     "output_type": "stream",
     "text": [
      "(5580, 100)\n",
      "(5580,)\n"
     ]
    },
    {
     "data": {
      "text/plain": [
       "(None, None)"
      ]
     },
     "execution_count": 22,
     "metadata": {},
     "output_type": "execute_result"
    }
   ],
   "source": [
    "print(X_train.shape), print(y_train.shape)"
   ]
  },
  {
   "cell_type": "code",
   "execution_count": 23,
   "id": "8603e10d",
   "metadata": {},
   "outputs": [
    {
     "name": "stdout",
     "output_type": "stream",
     "text": [
      "(2958, 100)\n",
      "(2958,)\n"
     ]
    },
    {
     "data": {
      "text/plain": [
       "(None, None)"
      ]
     },
     "execution_count": 23,
     "metadata": {},
     "output_type": "execute_result"
    }
   ],
   "source": [
    "print(X_test.shape), print(ytest.shape)"
   ]
  },
  {
   "cell_type": "code",
   "execution_count": 24,
   "id": "c1276fb3",
   "metadata": {},
   "outputs": [],
   "source": [
    "# reshape input to be [samples, time steps, features] which is required for LSTM\n",
    "X_train =X_train.reshape(X_train.shape[0],X_train.shape[1] , 1)\n",
    "X_test = X_test.reshape(X_test.shape[0],X_test.shape[1] , 1)"
   ]
  },
  {
   "cell_type": "code",
   "execution_count": 25,
   "id": "50581dda",
   "metadata": {},
   "outputs": [],
   "source": [
    "### Create the Stacked LSTM model\n",
    "from tensorflow.keras.models import Sequential\n",
    "from tensorflow.keras.layers import Dense\n",
    "from tensorflow.keras.layers import LSTM"
   ]
  },
  {
   "cell_type": "code",
   "execution_count": 26,
   "id": "6298ad66",
   "metadata": {},
   "outputs": [],
   "source": [
    "model=Sequential()\n",
    "model.add(LSTM(50,return_sequences=True,input_shape=(100,1)))\n",
    "model.add(LSTM(50,return_sequences=True))\n",
    "model.add(LSTM(50))\n",
    "model.add(Dense(1))\n",
    "model.compile(loss='mean_squared_error',optimizer='adam')"
   ]
  },
  {
   "cell_type": "code",
   "execution_count": 27,
   "id": "d68a3130",
   "metadata": {},
   "outputs": [
    {
     "name": "stdout",
     "output_type": "stream",
     "text": [
      "Model: \"sequential\"\n",
      "_________________________________________________________________\n",
      " Layer (type)                Output Shape              Param #   \n",
      "=================================================================\n",
      " lstm (LSTM)                 (None, 100, 50)           10400     \n",
      "                                                                 \n",
      " lstm_1 (LSTM)               (None, 100, 50)           20200     \n",
      "                                                                 \n",
      " lstm_2 (LSTM)               (None, 50)                20200     \n",
      "                                                                 \n",
      " dense (Dense)               (None, 1)                 51        \n",
      "                                                                 \n",
      "=================================================================\n",
      "Total params: 50,851\n",
      "Trainable params: 50,851\n",
      "Non-trainable params: 0\n",
      "_________________________________________________________________\n"
     ]
    }
   ],
   "source": [
    "model.summary()"
   ]
  },
  {
   "cell_type": "code",
   "execution_count": 28,
   "id": "3022e47e",
   "metadata": {},
   "outputs": [
    {
     "name": "stdout",
     "output_type": "stream",
     "text": [
      "Epoch 1/100\n",
      "88/88 [==============================] - 35s 259ms/step - loss: 0.0562 - val_loss: 0.0149\n",
      "Epoch 2/100\n",
      "88/88 [==============================] - 20s 230ms/step - loss: 0.0110 - val_loss: 0.0112\n",
      "Epoch 3/100\n",
      "88/88 [==============================] - 20s 231ms/step - loss: 0.0098 - val_loss: 0.0095\n",
      "Epoch 4/100\n",
      "88/88 [==============================] - 20s 231ms/step - loss: 0.0089 - val_loss: 0.0096\n",
      "Epoch 5/100\n",
      "88/88 [==============================] - 20s 233ms/step - loss: 0.0082 - val_loss: 0.0092\n",
      "Epoch 6/100\n",
      "88/88 [==============================] - 20s 230ms/step - loss: 0.0080 - val_loss: 0.0083\n",
      "Epoch 7/100\n",
      "88/88 [==============================] - 20s 230ms/step - loss: 0.0079 - val_loss: 0.0086\n",
      "Epoch 8/100\n",
      "88/88 [==============================] - 20s 231ms/step - loss: 0.0073 - val_loss: 0.0081\n",
      "Epoch 9/100\n",
      "88/88 [==============================] - 20s 232ms/step - loss: 0.0074 - val_loss: 0.0093\n",
      "Epoch 10/100\n",
      "88/88 [==============================] - 20s 231ms/step - loss: 0.0071 - val_loss: 0.0080\n",
      "Epoch 11/100\n",
      "88/88 [==============================] - 20s 233ms/step - loss: 0.0071 - val_loss: 0.0094\n",
      "Epoch 12/100\n",
      "88/88 [==============================] - 20s 231ms/step - loss: 0.0071 - val_loss: 0.0078\n",
      "Epoch 13/100\n",
      "88/88 [==============================] - 20s 231ms/step - loss: 0.0072 - val_loss: 0.0071\n",
      "Epoch 14/100\n",
      "88/88 [==============================] - 20s 231ms/step - loss: 0.0066 - val_loss: 0.0077\n",
      "Epoch 15/100\n",
      "88/88 [==============================] - 21s 238ms/step - loss: 0.0067 - val_loss: 0.0068\n",
      "Epoch 16/100\n",
      "88/88 [==============================] - 20s 230ms/step - loss: 0.0062 - val_loss: 0.0071\n",
      "Epoch 17/100\n",
      "88/88 [==============================] - 20s 230ms/step - loss: 0.0057 - val_loss: 0.0068\n",
      "Epoch 18/100\n",
      "88/88 [==============================] - 20s 231ms/step - loss: 0.0055 - val_loss: 0.0053\n",
      "Epoch 19/100\n",
      "88/88 [==============================] - 20s 231ms/step - loss: 0.0045 - val_loss: 0.0046\n",
      "Epoch 20/100\n",
      "88/88 [==============================] - 20s 230ms/step - loss: 0.0039 - val_loss: 0.0047\n",
      "Epoch 21/100\n",
      "88/88 [==============================] - 20s 231ms/step - loss: 0.0033 - val_loss: 0.0036\n",
      "Epoch 22/100\n",
      "88/88 [==============================] - 20s 231ms/step - loss: 0.0031 - val_loss: 0.0033\n",
      "Epoch 23/100\n",
      "88/88 [==============================] - 21s 237ms/step - loss: 0.0028 - val_loss: 0.0031\n",
      "Epoch 24/100\n",
      "88/88 [==============================] - 22s 251ms/step - loss: 0.0027 - val_loss: 0.0029\n",
      "Epoch 25/100\n",
      "88/88 [==============================] - 23s 259ms/step - loss: 0.0026 - val_loss: 0.0031\n",
      "Epoch 26/100\n",
      "88/88 [==============================] - 21s 237ms/step - loss: 0.0024 - val_loss: 0.0027\n",
      "Epoch 27/100\n",
      "88/88 [==============================] - 21s 244ms/step - loss: 0.0025 - val_loss: 0.0042\n",
      "Epoch 28/100\n",
      "88/88 [==============================] - 22s 248ms/step - loss: 0.0024 - val_loss: 0.0026\n",
      "Epoch 29/100\n",
      "88/88 [==============================] - 21s 243ms/step - loss: 0.0023 - val_loss: 0.0026\n",
      "Epoch 30/100\n",
      "88/88 [==============================] - 21s 238ms/step - loss: 0.0021 - val_loss: 0.0024\n",
      "Epoch 31/100\n",
      "88/88 [==============================] - 20s 233ms/step - loss: 0.0021 - val_loss: 0.0023\n",
      "Epoch 32/100\n",
      "88/88 [==============================] - 21s 237ms/step - loss: 0.0022 - val_loss: 0.0024\n",
      "Epoch 33/100\n",
      "88/88 [==============================] - 22s 246ms/step - loss: 0.0021 - val_loss: 0.0028\n",
      "Epoch 34/100\n",
      "88/88 [==============================] - 21s 245ms/step - loss: 0.0021 - val_loss: 0.0028\n",
      "Epoch 35/100\n",
      "88/88 [==============================] - 21s 233ms/step - loss: 0.0020 - val_loss: 0.0026\n",
      "Epoch 36/100\n",
      "88/88 [==============================] - 21s 234ms/step - loss: 0.0019 - val_loss: 0.0025\n",
      "Epoch 37/100\n",
      "88/88 [==============================] - 22s 250ms/step - loss: 0.0022 - val_loss: 0.0021\n",
      "Epoch 38/100\n",
      "88/88 [==============================] - 21s 243ms/step - loss: 0.0021 - val_loss: 0.0022\n",
      "Epoch 39/100\n",
      "88/88 [==============================] - 20s 233ms/step - loss: 0.0020 - val_loss: 0.0025\n",
      "Epoch 40/100\n",
      "88/88 [==============================] - 21s 241ms/step - loss: 0.0019 - val_loss: 0.0025\n",
      "Epoch 41/100\n",
      "88/88 [==============================] - 22s 252ms/step - loss: 0.0020 - val_loss: 0.0025\n",
      "Epoch 42/100\n",
      "88/88 [==============================] - 21s 239ms/step - loss: 0.0019 - val_loss: 0.0020\n",
      "Epoch 43/100\n",
      "88/88 [==============================] - 21s 237ms/step - loss: 0.0019 - val_loss: 0.0022\n",
      "Epoch 44/100\n",
      "88/88 [==============================] - 21s 241ms/step - loss: 0.0020 - val_loss: 0.0025\n",
      "Epoch 45/100\n",
      "88/88 [==============================] - 21s 233ms/step - loss: 0.0019 - val_loss: 0.0027\n",
      "Epoch 46/100\n",
      "88/88 [==============================] - 20s 232ms/step - loss: 0.0019 - val_loss: 0.0020\n",
      "Epoch 47/100\n",
      "88/88 [==============================] - 20s 231ms/step - loss: 0.0018 - val_loss: 0.0025\n",
      "Epoch 48/100\n",
      "88/88 [==============================] - 20s 233ms/step - loss: 0.0020 - val_loss: 0.0021\n",
      "Epoch 49/100\n",
      "88/88 [==============================] - 22s 247ms/step - loss: 0.0018 - val_loss: 0.0020\n",
      "Epoch 50/100\n",
      "88/88 [==============================] - 21s 241ms/step - loss: 0.0019 - val_loss: 0.0020\n",
      "Epoch 51/100\n",
      "88/88 [==============================] - 21s 235ms/step - loss: 0.0018 - val_loss: 0.0020\n",
      "Epoch 52/100\n",
      "88/88 [==============================] - 22s 248ms/step - loss: 0.0017 - val_loss: 0.0019\n",
      "Epoch 53/100\n",
      "88/88 [==============================] - 22s 253ms/step - loss: 0.0016 - val_loss: 0.0022\n",
      "Epoch 54/100\n",
      "88/88 [==============================] - 21s 240ms/step - loss: 0.0017 - val_loss: 0.0019\n",
      "Epoch 55/100\n",
      "88/88 [==============================] - 21s 242ms/step - loss: 0.0017 - val_loss: 0.0018\n",
      "Epoch 56/100\n",
      "88/88 [==============================] - 21s 244ms/step - loss: 0.0017 - val_loss: 0.0018\n",
      "Epoch 57/100\n",
      "88/88 [==============================] - 21s 236ms/step - loss: 0.0016 - val_loss: 0.0020\n",
      "Epoch 58/100\n",
      "88/88 [==============================] - 20s 230ms/step - loss: 0.0017 - val_loss: 0.0021\n",
      "Epoch 59/100\n",
      "88/88 [==============================] - 20s 229ms/step - loss: 0.0017 - val_loss: 0.0023\n",
      "Epoch 60/100\n",
      "88/88 [==============================] - 20s 230ms/step - loss: 0.0016 - val_loss: 0.0020\n",
      "Epoch 61/100\n",
      "88/88 [==============================] - 21s 237ms/step - loss: 0.0016 - val_loss: 0.0020\n",
      "Epoch 62/100\n",
      "88/88 [==============================] - 20s 229ms/step - loss: 0.0016 - val_loss: 0.0021\n",
      "Epoch 63/100\n",
      "88/88 [==============================] - 20s 229ms/step - loss: 0.0017 - val_loss: 0.0019\n",
      "Epoch 64/100\n",
      "88/88 [==============================] - 20s 230ms/step - loss: 0.0016 - val_loss: 0.0019\n",
      "Epoch 65/100\n",
      "88/88 [==============================] - 20s 229ms/step - loss: 0.0016 - val_loss: 0.0019\n",
      "Epoch 66/100\n",
      "88/88 [==============================] - 20s 230ms/step - loss: 0.0016 - val_loss: 0.0019\n",
      "Epoch 67/100\n",
      "88/88 [==============================] - 20s 230ms/step - loss: 0.0016 - val_loss: 0.0018\n",
      "Epoch 68/100\n",
      "88/88 [==============================] - 20s 230ms/step - loss: 0.0017 - val_loss: 0.0020\n",
      "Epoch 69/100\n",
      "88/88 [==============================] - 20s 230ms/step - loss: 0.0016 - val_loss: 0.0018\n",
      "Epoch 70/100\n",
      "88/88 [==============================] - 20s 232ms/step - loss: 0.0016 - val_loss: 0.0018\n",
      "Epoch 71/100\n",
      "88/88 [==============================] - 21s 234ms/step - loss: 0.0015 - val_loss: 0.0022\n",
      "Epoch 72/100\n",
      "88/88 [==============================] - 25s 285ms/step - loss: 0.0016 - val_loss: 0.0018\n",
      "Epoch 73/100\n",
      "88/88 [==============================] - 23s 257ms/step - loss: 0.0016 - val_loss: 0.0019\n",
      "Epoch 74/100\n",
      "88/88 [==============================] - 21s 243ms/step - loss: 0.0015 - val_loss: 0.0018\n",
      "Epoch 75/100\n",
      "88/88 [==============================] - 22s 246ms/step - loss: 0.0015 - val_loss: 0.0018\n",
      "Epoch 76/100\n",
      "88/88 [==============================] - 21s 238ms/step - loss: 0.0015 - val_loss: 0.0020\n",
      "Epoch 77/100\n",
      "88/88 [==============================] - 21s 238ms/step - loss: 0.0016 - val_loss: 0.0018\n",
      "Epoch 78/100\n",
      "88/88 [==============================] - 21s 243ms/step - loss: 0.0015 - val_loss: 0.0019\n",
      "Epoch 79/100\n",
      "88/88 [==============================] - 22s 248ms/step - loss: 0.0015 - val_loss: 0.0020\n",
      "Epoch 80/100\n",
      "88/88 [==============================] - 21s 236ms/step - loss: 0.0015 - val_loss: 0.0017\n",
      "Epoch 81/100\n",
      "88/88 [==============================] - 21s 237ms/step - loss: 0.0015 - val_loss: 0.0019\n",
      "Epoch 82/100\n",
      "88/88 [==============================] - 21s 235ms/step - loss: 0.0016 - val_loss: 0.0020\n",
      "Epoch 83/100\n",
      "88/88 [==============================] - 21s 235ms/step - loss: 0.0016 - val_loss: 0.0017\n",
      "Epoch 84/100\n",
      "88/88 [==============================] - 21s 239ms/step - loss: 0.0015 - val_loss: 0.0019\n",
      "Epoch 85/100\n",
      "88/88 [==============================] - 21s 234ms/step - loss: 0.0015 - val_loss: 0.0019\n",
      "Epoch 86/100\n",
      "88/88 [==============================] - 21s 239ms/step - loss: 0.0014 - val_loss: 0.0018\n",
      "Epoch 87/100\n",
      "88/88 [==============================] - 20s 232ms/step - loss: 0.0015 - val_loss: 0.0020\n",
      "Epoch 88/100\n",
      "88/88 [==============================] - 20s 229ms/step - loss: 0.0015 - val_loss: 0.0017\n",
      "Epoch 89/100\n",
      "88/88 [==============================] - 21s 236ms/step - loss: 0.0014 - val_loss: 0.0017\n",
      "Epoch 90/100\n",
      "88/88 [==============================] - 21s 237ms/step - loss: 0.0015 - val_loss: 0.0018\n",
      "Epoch 91/100\n",
      "88/88 [==============================] - 22s 254ms/step - loss: 0.0015 - val_loss: 0.0019\n",
      "Epoch 92/100\n",
      "88/88 [==============================] - 21s 236ms/step - loss: 0.0015 - val_loss: 0.0018\n",
      "Epoch 93/100\n",
      "88/88 [==============================] - 20s 233ms/step - loss: 0.0014 - val_loss: 0.0018\n",
      "Epoch 94/100\n",
      "88/88 [==============================] - 21s 243ms/step - loss: 0.0015 - val_loss: 0.0017\n",
      "Epoch 95/100\n",
      "88/88 [==============================] - 22s 247ms/step - loss: 0.0014 - val_loss: 0.0020\n",
      "Epoch 96/100\n",
      "88/88 [==============================] - 22s 254ms/step - loss: 0.0014 - val_loss: 0.0018\n",
      "Epoch 97/100\n",
      "88/88 [==============================] - 22s 247ms/step - loss: 0.0015 - val_loss: 0.0024\n",
      "Epoch 98/100\n",
      "88/88 [==============================] - 21s 239ms/step - loss: 0.0019 - val_loss: 0.0018\n",
      "Epoch 99/100\n",
      "88/88 [==============================] - 22s 247ms/step - loss: 0.0014 - val_loss: 0.0018\n",
      "Epoch 100/100\n",
      "88/88 [==============================] - 21s 238ms/step - loss: 0.0014 - val_loss: 0.0018\n"
     ]
    }
   ],
   "source": [
    "history= model.fit(X_train,y_train,validation_data=(X_test,ytest),epochs=100,batch_size=64,verbose=1)"
   ]
  },
  {
   "cell_type": "code",
   "execution_count": 29,
   "id": "3cd443c3",
   "metadata": {},
   "outputs": [
    {
     "data": {
      "image/png": "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\n",
      "text/plain": [
       "<Figure size 432x288 with 1 Axes>"
      ]
     },
     "metadata": {
      "needs_background": "light"
     },
     "output_type": "display_data"
    }
   ],
   "source": [
    "import matplotlib.pyplot as plt\n",
    "\n",
    "loss = history.history['loss']\n",
    "val_loss = history.history['val_loss']\n",
    "epochs = range(1, len(loss) + 1)\n",
    "plt.figure()\n",
    "plt.plot(epochs, loss,'bo', label='Training Loss') \n",
    "plt.plot(epochs, val_loss,'b', label='Validation Loss') \n",
    "plt.title('Training and validation Loss')\n",
    "plt.legend()\n",
    "plt.show()"
   ]
  },
  {
   "cell_type": "code",
   "execution_count": 30,
   "id": "9839f0a8",
   "metadata": {},
   "outputs": [],
   "source": [
    "import tensorflow as tf"
   ]
  },
  {
   "cell_type": "code",
   "execution_count": 31,
   "id": "3a5a758c",
   "metadata": {},
   "outputs": [
    {
     "data": {
      "text/plain": [
       "'2.9.1'"
      ]
     },
     "execution_count": 31,
     "metadata": {},
     "output_type": "execute_result"
    }
   ],
   "source": [
    "tf.__version__"
   ]
  },
  {
   "cell_type": "code",
   "execution_count": 32,
   "id": "4c794d81",
   "metadata": {},
   "outputs": [
    {
     "name": "stdout",
     "output_type": "stream",
     "text": [
      "175/175 [==============================] - 16s 48ms/step\n",
      "93/93 [==============================] - 4s 48ms/step\n"
     ]
    }
   ],
   "source": [
    "### Lets Do the prediction and check performance metrics\n",
    "train_predict=model.predict(X_train)\n",
    "test_predict=model.predict(X_test)"
   ]
  },
  {
   "cell_type": "code",
   "execution_count": 33,
   "id": "92b17dd0",
   "metadata": {},
   "outputs": [],
   "source": [
    "##Transform back to original form\n",
    "train_predict=scaler.inverse_transform(train_predict)\n",
    "test_predict=scaler.inverse_transform(test_predict)"
   ]
  },
  {
   "cell_type": "code",
   "execution_count": 34,
   "id": "5ee88ec5",
   "metadata": {},
   "outputs": [
    {
     "data": {
      "text/plain": [
       "12449.682178757874"
      ]
     },
     "execution_count": 34,
     "metadata": {},
     "output_type": "execute_result"
    }
   ],
   "source": [
    "### Calculate RMSE performance metrics\n",
    "import math\n",
    "from sklearn.metrics import mean_squared_error\n",
    "math.sqrt(mean_squared_error(y_train,train_predict))"
   ]
  },
  {
   "cell_type": "code",
   "execution_count": 35,
   "id": "9492bca7",
   "metadata": {},
   "outputs": [
    {
     "data": {
      "text/plain": [
       "12224.084518400838"
      ]
     },
     "execution_count": 35,
     "metadata": {},
     "output_type": "execute_result"
    }
   ],
   "source": [
    "### Test Data RMSE\n",
    "math.sqrt(mean_squared_error(ytest,test_predict))"
   ]
  },
  {
   "cell_type": "code",
   "execution_count": 36,
   "id": "e60bd08c",
   "metadata": {},
   "outputs": [],
   "source": [
    "### Plotting \n",
    "# shift train predictions for plotting\n",
    "\n",
    "look_back=100\n",
    "trainPredictPlot = numpy.empty_like(df1)\n",
    "trainPredictPlot[:, :] = np.nan\n",
    "trainPredictPlot[look_back:len(train_predict)+look_back, :] = train_predict"
   ]
  },
  {
   "cell_type": "code",
   "execution_count": 37,
   "id": "ecbd5781",
   "metadata": {},
   "outputs": [],
   "source": [
    "# shift test predictions for plotting\n",
    "testPredictPlot = numpy.empty_like(df1)\n",
    "testPredictPlot[:, :] = numpy.nan\n",
    "testPredictPlot[len(train_predict)+(look_back*2)+1:len(df1)-1, :] = test_predict"
   ]
  },
  {
   "cell_type": "code",
   "execution_count": 38,
   "id": "e52ab220",
   "metadata": {},
   "outputs": [
    {
     "data": {
      "image/png": "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\n",
      "text/plain": [
       "<Figure size 720x720 with 1 Axes>"
      ]
     },
     "metadata": {
      "needs_background": "light"
     },
     "output_type": "display_data"
    }
   ],
   "source": [
    "# plot baseline and predictions\n",
    "fig = plt.figure(figsize=(10, 10))\n",
    "plt.plot(scaler.inverse_transform(df1))\n",
    "plt.plot(trainPredictPlot)\n",
    "plt.plot(testPredictPlot)\n",
    "plt.show()"
   ]
  },
  {
   "cell_type": "code",
   "execution_count": 39,
   "id": "163605b1",
   "metadata": {},
   "outputs": [
    {
     "data": {
      "text/plain": [
       "3059"
      ]
     },
     "execution_count": 39,
     "metadata": {},
     "output_type": "execute_result"
    }
   ],
   "source": [
    "len(test_data)"
   ]
  },
  {
   "cell_type": "code",
   "execution_count": 40,
   "id": "16e9019d",
   "metadata": {},
   "outputs": [
    {
     "data": {
      "text/plain": [
       "(1, 100)"
      ]
     },
     "execution_count": 40,
     "metadata": {},
     "output_type": "execute_result"
    }
   ],
   "source": [
    "x_input=test_data[2959:].reshape(1,-1)\n",
    "x_input.shape"
   ]
  },
  {
   "cell_type": "code",
   "execution_count": 41,
   "id": "dd5c41dd",
   "metadata": {},
   "outputs": [],
   "source": [
    "temp_input=list(x_input)\n",
    "temp_input=temp_input[0].tolist()"
   ]
  },
  {
   "cell_type": "code",
   "execution_count": 42,
   "id": "a75bc7d1",
   "metadata": {},
   "outputs": [
    {
     "data": {
      "text/plain": [
       "[0.4382422802850356,\n",
       " 0.3711401425178147,\n",
       " 0.2980997624703088,\n",
       " 0.2024940617577197,\n",
       " 0.11104513064133018,\n",
       " 0.05106888361045131,\n",
       " 0.03444180522565321,\n",
       " 0.033847980997624705,\n",
       " 0.07185273159144893,\n",
       " 0.1834916864608076,\n",
       " 0.3176959619952494,\n",
       " 0.48456057007125886,\n",
       " 0.5160332541567696,\n",
       " 0.5492874109263658,\n",
       " 0.6306413301662708,\n",
       " 0.7434679334916864,\n",
       " 0.7737529691211401,\n",
       " 0.8165083135391924,\n",
       " 0.9394299287410925,\n",
       " 0.9572446555819477,\n",
       " 0.9429928741092636,\n",
       " 0.9026128266033254,\n",
       " 0.7268408551068883,\n",
       " 0.5659144893111638,\n",
       " 0.46852731591448926,\n",
       " 0.4043942992874109,\n",
       " 0.31294536817102137,\n",
       " 0.21912114014251782,\n",
       " 0.11401425178147268,\n",
       " 0.050475059382422804,\n",
       " 0.03919239904988124,\n",
       " 0.037410926365795724,\n",
       " 0.08016627078384798,\n",
       " 0.1834916864608076,\n",
       " 0.32125890736342044,\n",
       " 0.5017814726840855,\n",
       " 0.5451306413301662,\n",
       " 0.5546318289786223,\n",
       " 0.6252969121140143,\n",
       " 0.7298099762470308,\n",
       " 0.7862232779097387,\n",
       " 0.8171021377672208,\n",
       " 0.9643705463182898,\n",
       " 0.9489311163895486,\n",
       " 0.9263657957244655,\n",
       " 0.9222090261282659,\n",
       " 0.8076009501187648,\n",
       " 0.6027315914489311,\n",
       " 0.49406175771971494,\n",
       " 0.42814726840855105,\n",
       " 0.338479809976247,\n",
       " 0.2226840855106888,\n",
       " 0.13836104513064132,\n",
       " 0.0671021377672209,\n",
       " 0.045724465558194774,\n",
       " 0.04275534441805226,\n",
       " 0.0671021377672209,\n",
       " 0.17577197149643706,\n",
       " 0.31057007125890734,\n",
       " 0.49287410926365793,\n",
       " 0.5237529691211401,\n",
       " 0.588479809976247,\n",
       " 0.6745843230403801,\n",
       " 0.7743467933491686,\n",
       " 0.8283847980997624,\n",
       " 0.839667458432304,\n",
       " 0.8960807600950118,\n",
       " 0.8111638954869358,\n",
       " 0.7885985748218527,\n",
       " 0.8640142517814726,\n",
       " 0.8723277909738717,\n",
       " 0.6852731591448931,\n",
       " 0.5362232779097387,\n",
       " 0.4904988123515439,\n",
       " 0.37826603325415675,\n",
       " 0.2672209026128266,\n",
       " 0.15261282660332542,\n",
       " 0.0688836104513064,\n",
       " 0.05581947743467934,\n",
       " 0.040973871733966744,\n",
       " 0.05225653206650831,\n",
       " 0.14548693586698336,\n",
       " 0.2672209026128266,\n",
       " 0.4400237529691211,\n",
       " 0.47684085510688834,\n",
       " 0.5225653206650831,\n",
       " 0.6235154394299287,\n",
       " 0.7553444180522565,\n",
       " 0.8954869358669834,\n",
       " 0.921021377672209,\n",
       " 0.929334916864608,\n",
       " 0.9097387173396674,\n",
       " 0.8752969121140142,\n",
       " 0.7986935866983372,\n",
       " 0.666270783847981,\n",
       " 0.5445368171021377,\n",
       " 0.4566508313539192,\n",
       " 0.3681710213776722,\n",
       " 0.3070071258907363,\n",
       " 0.24287410926365793]"
      ]
     },
     "execution_count": 42,
     "metadata": {},
     "output_type": "execute_result"
    }
   ],
   "source": [
    "temp_input"
   ]
  },
  {
   "cell_type": "code",
   "execution_count": 43,
   "id": "71cfdded",
   "metadata": {},
   "outputs": [
    {
     "name": "stdout",
     "output_type": "stream",
     "text": [
      "[0.16528243]\n",
      "101\n",
      "1 day input [0.37114014 0.29809976 0.20249406 0.11104513 0.05106888 0.03444181\n",
      " 0.03384798 0.07185273 0.18349169 0.31769596 0.48456057 0.51603325\n",
      " 0.54928741 0.63064133 0.74346793 0.77375297 0.81650831 0.93942993\n",
      " 0.95724466 0.94299287 0.90261283 0.72684086 0.56591449 0.46852732\n",
      " 0.4043943  0.31294537 0.21912114 0.11401425 0.05047506 0.0391924\n",
      " 0.03741093 0.08016627 0.18349169 0.32125891 0.50178147 0.54513064\n",
      " 0.55463183 0.62529691 0.72980998 0.78622328 0.81710214 0.96437055\n",
      " 0.94893112 0.9263658  0.92220903 0.80760095 0.60273159 0.49406176\n",
      " 0.42814727 0.33847981 0.22268409 0.13836105 0.06710214 0.04572447\n",
      " 0.04275534 0.06710214 0.17577197 0.31057007 0.49287411 0.52375297\n",
      " 0.58847981 0.67458432 0.77434679 0.8283848  0.83966746 0.89608076\n",
      " 0.8111639  0.78859857 0.86401425 0.87232779 0.68527316 0.53622328\n",
      " 0.49049881 0.37826603 0.2672209  0.15261283 0.06888361 0.05581948\n",
      " 0.04097387 0.05225653 0.14548694 0.2672209  0.44002375 0.47684086\n",
      " 0.52256532 0.62351544 0.75534442 0.89548694 0.92102138 0.92933492\n",
      " 0.90973872 0.87529691 0.79869359 0.66627078 0.54453682 0.45665083\n",
      " 0.36817102 0.30700713 0.24287411 0.16528243]\n",
      "1 day output [[0.11311806]]\n",
      "2 day input [0.29809976 0.20249406 0.11104513 0.05106888 0.03444181 0.03384798\n",
      " 0.07185273 0.18349169 0.31769596 0.48456057 0.51603325 0.54928741\n",
      " 0.63064133 0.74346793 0.77375297 0.81650831 0.93942993 0.95724466\n",
      " 0.94299287 0.90261283 0.72684086 0.56591449 0.46852732 0.4043943\n",
      " 0.31294537 0.21912114 0.11401425 0.05047506 0.0391924  0.03741093\n",
      " 0.08016627 0.18349169 0.32125891 0.50178147 0.54513064 0.55463183\n",
      " 0.62529691 0.72980998 0.78622328 0.81710214 0.96437055 0.94893112\n",
      " 0.9263658  0.92220903 0.80760095 0.60273159 0.49406176 0.42814727\n",
      " 0.33847981 0.22268409 0.13836105 0.06710214 0.04572447 0.04275534\n",
      " 0.06710214 0.17577197 0.31057007 0.49287411 0.52375297 0.58847981\n",
      " 0.67458432 0.77434679 0.8283848  0.83966746 0.89608076 0.8111639\n",
      " 0.78859857 0.86401425 0.87232779 0.68527316 0.53622328 0.49049881\n",
      " 0.37826603 0.2672209  0.15261283 0.06888361 0.05581948 0.04097387\n",
      " 0.05225653 0.14548694 0.2672209  0.44002375 0.47684086 0.52256532\n",
      " 0.62351544 0.75534442 0.89548694 0.92102138 0.92933492 0.90973872\n",
      " 0.87529691 0.79869359 0.66627078 0.54453682 0.45665083 0.36817102\n",
      " 0.30700713 0.24287411 0.16528243 0.11311806]\n",
      "2 day output [[0.06665185]]\n",
      "3 day input [0.20249406 0.11104513 0.05106888 0.03444181 0.03384798 0.07185273\n",
      " 0.18349169 0.31769596 0.48456057 0.51603325 0.54928741 0.63064133\n",
      " 0.74346793 0.77375297 0.81650831 0.93942993 0.95724466 0.94299287\n",
      " 0.90261283 0.72684086 0.56591449 0.46852732 0.4043943  0.31294537\n",
      " 0.21912114 0.11401425 0.05047506 0.0391924  0.03741093 0.08016627\n",
      " 0.18349169 0.32125891 0.50178147 0.54513064 0.55463183 0.62529691\n",
      " 0.72980998 0.78622328 0.81710214 0.96437055 0.94893112 0.9263658\n",
      " 0.92220903 0.80760095 0.60273159 0.49406176 0.42814727 0.33847981\n",
      " 0.22268409 0.13836105 0.06710214 0.04572447 0.04275534 0.06710214\n",
      " 0.17577197 0.31057007 0.49287411 0.52375297 0.58847981 0.67458432\n",
      " 0.77434679 0.8283848  0.83966746 0.89608076 0.8111639  0.78859857\n",
      " 0.86401425 0.87232779 0.68527316 0.53622328 0.49049881 0.37826603\n",
      " 0.2672209  0.15261283 0.06888361 0.05581948 0.04097387 0.05225653\n",
      " 0.14548694 0.2672209  0.44002375 0.47684086 0.52256532 0.62351544\n",
      " 0.75534442 0.89548694 0.92102138 0.92933492 0.90973872 0.87529691\n",
      " 0.79869359 0.66627078 0.54453682 0.45665083 0.36817102 0.30700713\n",
      " 0.24287411 0.16528243 0.11311806 0.06665185]\n",
      "3 day output [[0.02680812]]\n",
      "4 day input [0.11104513 0.05106888 0.03444181 0.03384798 0.07185273 0.18349169\n",
      " 0.31769596 0.48456057 0.51603325 0.54928741 0.63064133 0.74346793\n",
      " 0.77375297 0.81650831 0.93942993 0.95724466 0.94299287 0.90261283\n",
      " 0.72684086 0.56591449 0.46852732 0.4043943  0.31294537 0.21912114\n",
      " 0.11401425 0.05047506 0.0391924  0.03741093 0.08016627 0.18349169\n",
      " 0.32125891 0.50178147 0.54513064 0.55463183 0.62529691 0.72980998\n",
      " 0.78622328 0.81710214 0.96437055 0.94893112 0.9263658  0.92220903\n",
      " 0.80760095 0.60273159 0.49406176 0.42814727 0.33847981 0.22268409\n",
      " 0.13836105 0.06710214 0.04572447 0.04275534 0.06710214 0.17577197\n",
      " 0.31057007 0.49287411 0.52375297 0.58847981 0.67458432 0.77434679\n",
      " 0.8283848  0.83966746 0.89608076 0.8111639  0.78859857 0.86401425\n",
      " 0.87232779 0.68527316 0.53622328 0.49049881 0.37826603 0.2672209\n",
      " 0.15261283 0.06888361 0.05581948 0.04097387 0.05225653 0.14548694\n",
      " 0.2672209  0.44002375 0.47684086 0.52256532 0.62351544 0.75534442\n",
      " 0.89548694 0.92102138 0.92933492 0.90973872 0.87529691 0.79869359\n",
      " 0.66627078 0.54453682 0.45665083 0.36817102 0.30700713 0.24287411\n",
      " 0.16528243 0.11311806 0.06665185 0.02680812]\n",
      "4 day output [[0.03123825]]\n",
      "5 day input [0.05106888 0.03444181 0.03384798 0.07185273 0.18349169 0.31769596\n",
      " 0.48456057 0.51603325 0.54928741 0.63064133 0.74346793 0.77375297\n",
      " 0.81650831 0.93942993 0.95724466 0.94299287 0.90261283 0.72684086\n",
      " 0.56591449 0.46852732 0.4043943  0.31294537 0.21912114 0.11401425\n",
      " 0.05047506 0.0391924  0.03741093 0.08016627 0.18349169 0.32125891\n",
      " 0.50178147 0.54513064 0.55463183 0.62529691 0.72980998 0.78622328\n",
      " 0.81710214 0.96437055 0.94893112 0.9263658  0.92220903 0.80760095\n",
      " 0.60273159 0.49406176 0.42814727 0.33847981 0.22268409 0.13836105\n",
      " 0.06710214 0.04572447 0.04275534 0.06710214 0.17577197 0.31057007\n",
      " 0.49287411 0.52375297 0.58847981 0.67458432 0.77434679 0.8283848\n",
      " 0.83966746 0.89608076 0.8111639  0.78859857 0.86401425 0.87232779\n",
      " 0.68527316 0.53622328 0.49049881 0.37826603 0.2672209  0.15261283\n",
      " 0.06888361 0.05581948 0.04097387 0.05225653 0.14548694 0.2672209\n",
      " 0.44002375 0.47684086 0.52256532 0.62351544 0.75534442 0.89548694\n",
      " 0.92102138 0.92933492 0.90973872 0.87529691 0.79869359 0.66627078\n",
      " 0.54453682 0.45665083 0.36817102 0.30700713 0.24287411 0.16528243\n",
      " 0.11311806 0.06665185 0.02680812 0.03123825]\n",
      "5 day output [[0.0658844]]\n",
      "6 day input [0.03444181 0.03384798 0.07185273 0.18349169 0.31769596 0.48456057\n",
      " 0.51603325 0.54928741 0.63064133 0.74346793 0.77375297 0.81650831\n",
      " 0.93942993 0.95724466 0.94299287 0.90261283 0.72684086 0.56591449\n",
      " 0.46852732 0.4043943  0.31294537 0.21912114 0.11401425 0.05047506\n",
      " 0.0391924  0.03741093 0.08016627 0.18349169 0.32125891 0.50178147\n",
      " 0.54513064 0.55463183 0.62529691 0.72980998 0.78622328 0.81710214\n",
      " 0.96437055 0.94893112 0.9263658  0.92220903 0.80760095 0.60273159\n",
      " 0.49406176 0.42814727 0.33847981 0.22268409 0.13836105 0.06710214\n",
      " 0.04572447 0.04275534 0.06710214 0.17577197 0.31057007 0.49287411\n",
      " 0.52375297 0.58847981 0.67458432 0.77434679 0.8283848  0.83966746\n",
      " 0.89608076 0.8111639  0.78859857 0.86401425 0.87232779 0.68527316\n",
      " 0.53622328 0.49049881 0.37826603 0.2672209  0.15261283 0.06888361\n",
      " 0.05581948 0.04097387 0.05225653 0.14548694 0.2672209  0.44002375\n",
      " 0.47684086 0.52256532 0.62351544 0.75534442 0.89548694 0.92102138\n",
      " 0.92933492 0.90973872 0.87529691 0.79869359 0.66627078 0.54453682\n",
      " 0.45665083 0.36817102 0.30700713 0.24287411 0.16528243 0.11311806\n",
      " 0.06665185 0.02680812 0.03123825 0.0658844 ]\n",
      "6 day output [[0.1297827]]\n",
      "7 day input [0.03384798 0.07185273 0.18349169 0.31769596 0.48456057 0.51603325\n",
      " 0.54928741 0.63064133 0.74346793 0.77375297 0.81650831 0.93942993\n",
      " 0.95724466 0.94299287 0.90261283 0.72684086 0.56591449 0.46852732\n",
      " 0.4043943  0.31294537 0.21912114 0.11401425 0.05047506 0.0391924\n",
      " 0.03741093 0.08016627 0.18349169 0.32125891 0.50178147 0.54513064\n",
      " 0.55463183 0.62529691 0.72980998 0.78622328 0.81710214 0.96437055\n",
      " 0.94893112 0.9263658  0.92220903 0.80760095 0.60273159 0.49406176\n",
      " 0.42814727 0.33847981 0.22268409 0.13836105 0.06710214 0.04572447\n",
      " 0.04275534 0.06710214 0.17577197 0.31057007 0.49287411 0.52375297\n",
      " 0.58847981 0.67458432 0.77434679 0.8283848  0.83966746 0.89608076\n",
      " 0.8111639  0.78859857 0.86401425 0.87232779 0.68527316 0.53622328\n",
      " 0.49049881 0.37826603 0.2672209  0.15261283 0.06888361 0.05581948\n",
      " 0.04097387 0.05225653 0.14548694 0.2672209  0.44002375 0.47684086\n",
      " 0.52256532 0.62351544 0.75534442 0.89548694 0.92102138 0.92933492\n",
      " 0.90973872 0.87529691 0.79869359 0.66627078 0.54453682 0.45665083\n",
      " 0.36817102 0.30700713 0.24287411 0.16528243 0.11311806 0.06665185\n",
      " 0.02680812 0.03123825 0.0658844  0.12978271]\n",
      "7 day output [[0.2065191]]\n",
      "8 day input [0.07185273 0.18349169 0.31769596 0.48456057 0.51603325 0.54928741\n",
      " 0.63064133 0.74346793 0.77375297 0.81650831 0.93942993 0.95724466\n",
      " 0.94299287 0.90261283 0.72684086 0.56591449 0.46852732 0.4043943\n",
      " 0.31294537 0.21912114 0.11401425 0.05047506 0.0391924  0.03741093\n",
      " 0.08016627 0.18349169 0.32125891 0.50178147 0.54513064 0.55463183\n",
      " 0.62529691 0.72980998 0.78622328 0.81710214 0.96437055 0.94893112\n",
      " 0.9263658  0.92220903 0.80760095 0.60273159 0.49406176 0.42814727\n",
      " 0.33847981 0.22268409 0.13836105 0.06710214 0.04572447 0.04275534\n",
      " 0.06710214 0.17577197 0.31057007 0.49287411 0.52375297 0.58847981\n",
      " 0.67458432 0.77434679 0.8283848  0.83966746 0.89608076 0.8111639\n",
      " 0.78859857 0.86401425 0.87232779 0.68527316 0.53622328 0.49049881\n",
      " 0.37826603 0.2672209  0.15261283 0.06888361 0.05581948 0.04097387\n",
      " 0.05225653 0.14548694 0.2672209  0.44002375 0.47684086 0.52256532\n",
      " 0.62351544 0.75534442 0.89548694 0.92102138 0.92933492 0.90973872\n",
      " 0.87529691 0.79869359 0.66627078 0.54453682 0.45665083 0.36817102\n",
      " 0.30700713 0.24287411 0.16528243 0.11311806 0.06665185 0.02680812\n",
      " 0.03123825 0.0658844  0.12978271 0.2065191 ]\n"
     ]
    },
    {
     "name": "stdout",
     "output_type": "stream",
     "text": [
      "8 day output [[0.3340738]]\n",
      "9 day input [0.18349169 0.31769596 0.48456057 0.51603325 0.54928741 0.63064133\n",
      " 0.74346793 0.77375297 0.81650831 0.93942993 0.95724466 0.94299287\n",
      " 0.90261283 0.72684086 0.56591449 0.46852732 0.4043943  0.31294537\n",
      " 0.21912114 0.11401425 0.05047506 0.0391924  0.03741093 0.08016627\n",
      " 0.18349169 0.32125891 0.50178147 0.54513064 0.55463183 0.62529691\n",
      " 0.72980998 0.78622328 0.81710214 0.96437055 0.94893112 0.9263658\n",
      " 0.92220903 0.80760095 0.60273159 0.49406176 0.42814727 0.33847981\n",
      " 0.22268409 0.13836105 0.06710214 0.04572447 0.04275534 0.06710214\n",
      " 0.17577197 0.31057007 0.49287411 0.52375297 0.58847981 0.67458432\n",
      " 0.77434679 0.8283848  0.83966746 0.89608076 0.8111639  0.78859857\n",
      " 0.86401425 0.87232779 0.68527316 0.53622328 0.49049881 0.37826603\n",
      " 0.2672209  0.15261283 0.06888361 0.05581948 0.04097387 0.05225653\n",
      " 0.14548694 0.2672209  0.44002375 0.47684086 0.52256532 0.62351544\n",
      " 0.75534442 0.89548694 0.92102138 0.92933492 0.90973872 0.87529691\n",
      " 0.79869359 0.66627078 0.54453682 0.45665083 0.36817102 0.30700713\n",
      " 0.24287411 0.16528243 0.11311806 0.06665185 0.02680812 0.03123825\n",
      " 0.0658844  0.12978271 0.2065191  0.33407381]\n",
      "9 day output [[0.47878048]]\n",
      "10 day input [0.31769596 0.48456057 0.51603325 0.54928741 0.63064133 0.74346793\n",
      " 0.77375297 0.81650831 0.93942993 0.95724466 0.94299287 0.90261283\n",
      " 0.72684086 0.56591449 0.46852732 0.4043943  0.31294537 0.21912114\n",
      " 0.11401425 0.05047506 0.0391924  0.03741093 0.08016627 0.18349169\n",
      " 0.32125891 0.50178147 0.54513064 0.55463183 0.62529691 0.72980998\n",
      " 0.78622328 0.81710214 0.96437055 0.94893112 0.9263658  0.92220903\n",
      " 0.80760095 0.60273159 0.49406176 0.42814727 0.33847981 0.22268409\n",
      " 0.13836105 0.06710214 0.04572447 0.04275534 0.06710214 0.17577197\n",
      " 0.31057007 0.49287411 0.52375297 0.58847981 0.67458432 0.77434679\n",
      " 0.8283848  0.83966746 0.89608076 0.8111639  0.78859857 0.86401425\n",
      " 0.87232779 0.68527316 0.53622328 0.49049881 0.37826603 0.2672209\n",
      " 0.15261283 0.06888361 0.05581948 0.04097387 0.05225653 0.14548694\n",
      " 0.2672209  0.44002375 0.47684086 0.52256532 0.62351544 0.75534442\n",
      " 0.89548694 0.92102138 0.92933492 0.90973872 0.87529691 0.79869359\n",
      " 0.66627078 0.54453682 0.45665083 0.36817102 0.30700713 0.24287411\n",
      " 0.16528243 0.11311806 0.06665185 0.02680812 0.03123825 0.0658844\n",
      " 0.12978271 0.2065191  0.33407381 0.47878048]\n",
      "10 day output [[0.5962567]]\n",
      "11 day input [0.48456057 0.51603325 0.54928741 0.63064133 0.74346793 0.77375297\n",
      " 0.81650831 0.93942993 0.95724466 0.94299287 0.90261283 0.72684086\n",
      " 0.56591449 0.46852732 0.4043943  0.31294537 0.21912114 0.11401425\n",
      " 0.05047506 0.0391924  0.03741093 0.08016627 0.18349169 0.32125891\n",
      " 0.50178147 0.54513064 0.55463183 0.62529691 0.72980998 0.78622328\n",
      " 0.81710214 0.96437055 0.94893112 0.9263658  0.92220903 0.80760095\n",
      " 0.60273159 0.49406176 0.42814727 0.33847981 0.22268409 0.13836105\n",
      " 0.06710214 0.04572447 0.04275534 0.06710214 0.17577197 0.31057007\n",
      " 0.49287411 0.52375297 0.58847981 0.67458432 0.77434679 0.8283848\n",
      " 0.83966746 0.89608076 0.8111639  0.78859857 0.86401425 0.87232779\n",
      " 0.68527316 0.53622328 0.49049881 0.37826603 0.2672209  0.15261283\n",
      " 0.06888361 0.05581948 0.04097387 0.05225653 0.14548694 0.2672209\n",
      " 0.44002375 0.47684086 0.52256532 0.62351544 0.75534442 0.89548694\n",
      " 0.92102138 0.92933492 0.90973872 0.87529691 0.79869359 0.66627078\n",
      " 0.54453682 0.45665083 0.36817102 0.30700713 0.24287411 0.16528243\n",
      " 0.11311806 0.06665185 0.02680812 0.03123825 0.0658844  0.12978271\n",
      " 0.2065191  0.33407381 0.47878048 0.59625667]\n",
      "11 day output [[0.6627239]]\n",
      "12 day input [0.51603325 0.54928741 0.63064133 0.74346793 0.77375297 0.81650831\n",
      " 0.93942993 0.95724466 0.94299287 0.90261283 0.72684086 0.56591449\n",
      " 0.46852732 0.4043943  0.31294537 0.21912114 0.11401425 0.05047506\n",
      " 0.0391924  0.03741093 0.08016627 0.18349169 0.32125891 0.50178147\n",
      " 0.54513064 0.55463183 0.62529691 0.72980998 0.78622328 0.81710214\n",
      " 0.96437055 0.94893112 0.9263658  0.92220903 0.80760095 0.60273159\n",
      " 0.49406176 0.42814727 0.33847981 0.22268409 0.13836105 0.06710214\n",
      " 0.04572447 0.04275534 0.06710214 0.17577197 0.31057007 0.49287411\n",
      " 0.52375297 0.58847981 0.67458432 0.77434679 0.8283848  0.83966746\n",
      " 0.89608076 0.8111639  0.78859857 0.86401425 0.87232779 0.68527316\n",
      " 0.53622328 0.49049881 0.37826603 0.2672209  0.15261283 0.06888361\n",
      " 0.05581948 0.04097387 0.05225653 0.14548694 0.2672209  0.44002375\n",
      " 0.47684086 0.52256532 0.62351544 0.75534442 0.89548694 0.92102138\n",
      " 0.92933492 0.90973872 0.87529691 0.79869359 0.66627078 0.54453682\n",
      " 0.45665083 0.36817102 0.30700713 0.24287411 0.16528243 0.11311806\n",
      " 0.06665185 0.02680812 0.03123825 0.0658844  0.12978271 0.2065191\n",
      " 0.33407381 0.47878048 0.59625667 0.6627239 ]\n",
      "12 day output [[0.6825209]]\n",
      "13 day input [0.54928741 0.63064133 0.74346793 0.77375297 0.81650831 0.93942993\n",
      " 0.95724466 0.94299287 0.90261283 0.72684086 0.56591449 0.46852732\n",
      " 0.4043943  0.31294537 0.21912114 0.11401425 0.05047506 0.0391924\n",
      " 0.03741093 0.08016627 0.18349169 0.32125891 0.50178147 0.54513064\n",
      " 0.55463183 0.62529691 0.72980998 0.78622328 0.81710214 0.96437055\n",
      " 0.94893112 0.9263658  0.92220903 0.80760095 0.60273159 0.49406176\n",
      " 0.42814727 0.33847981 0.22268409 0.13836105 0.06710214 0.04572447\n",
      " 0.04275534 0.06710214 0.17577197 0.31057007 0.49287411 0.52375297\n",
      " 0.58847981 0.67458432 0.77434679 0.8283848  0.83966746 0.89608076\n",
      " 0.8111639  0.78859857 0.86401425 0.87232779 0.68527316 0.53622328\n",
      " 0.49049881 0.37826603 0.2672209  0.15261283 0.06888361 0.05581948\n",
      " 0.04097387 0.05225653 0.14548694 0.2672209  0.44002375 0.47684086\n",
      " 0.52256532 0.62351544 0.75534442 0.89548694 0.92102138 0.92933492\n",
      " 0.90973872 0.87529691 0.79869359 0.66627078 0.54453682 0.45665083\n",
      " 0.36817102 0.30700713 0.24287411 0.16528243 0.11311806 0.06665185\n",
      " 0.02680812 0.03123825 0.0658844  0.12978271 0.2065191  0.33407381\n",
      " 0.47878048 0.59625667 0.6627239  0.68252093]\n",
      "13 day output [[0.6825486]]\n",
      "14 day input [0.63064133 0.74346793 0.77375297 0.81650831 0.93942993 0.95724466\n",
      " 0.94299287 0.90261283 0.72684086 0.56591449 0.46852732 0.4043943\n",
      " 0.31294537 0.21912114 0.11401425 0.05047506 0.0391924  0.03741093\n",
      " 0.08016627 0.18349169 0.32125891 0.50178147 0.54513064 0.55463183\n",
      " 0.62529691 0.72980998 0.78622328 0.81710214 0.96437055 0.94893112\n",
      " 0.9263658  0.92220903 0.80760095 0.60273159 0.49406176 0.42814727\n",
      " 0.33847981 0.22268409 0.13836105 0.06710214 0.04572447 0.04275534\n",
      " 0.06710214 0.17577197 0.31057007 0.49287411 0.52375297 0.58847981\n",
      " 0.67458432 0.77434679 0.8283848  0.83966746 0.89608076 0.8111639\n",
      " 0.78859857 0.86401425 0.87232779 0.68527316 0.53622328 0.49049881\n",
      " 0.37826603 0.2672209  0.15261283 0.06888361 0.05581948 0.04097387\n",
      " 0.05225653 0.14548694 0.2672209  0.44002375 0.47684086 0.52256532\n",
      " 0.62351544 0.75534442 0.89548694 0.92102138 0.92933492 0.90973872\n",
      " 0.87529691 0.79869359 0.66627078 0.54453682 0.45665083 0.36817102\n",
      " 0.30700713 0.24287411 0.16528243 0.11311806 0.06665185 0.02680812\n",
      " 0.03123825 0.0658844  0.12978271 0.2065191  0.33407381 0.47878048\n",
      " 0.59625667 0.6627239  0.68252093 0.68254858]\n",
      "14 day output [[0.6648573]]\n",
      "15 day input [0.74346793 0.77375297 0.81650831 0.93942993 0.95724466 0.94299287\n",
      " 0.90261283 0.72684086 0.56591449 0.46852732 0.4043943  0.31294537\n",
      " 0.21912114 0.11401425 0.05047506 0.0391924  0.03741093 0.08016627\n",
      " 0.18349169 0.32125891 0.50178147 0.54513064 0.55463183 0.62529691\n",
      " 0.72980998 0.78622328 0.81710214 0.96437055 0.94893112 0.9263658\n",
      " 0.92220903 0.80760095 0.60273159 0.49406176 0.42814727 0.33847981\n",
      " 0.22268409 0.13836105 0.06710214 0.04572447 0.04275534 0.06710214\n",
      " 0.17577197 0.31057007 0.49287411 0.52375297 0.58847981 0.67458432\n",
      " 0.77434679 0.8283848  0.83966746 0.89608076 0.8111639  0.78859857\n",
      " 0.86401425 0.87232779 0.68527316 0.53622328 0.49049881 0.37826603\n",
      " 0.2672209  0.15261283 0.06888361 0.05581948 0.04097387 0.05225653\n",
      " 0.14548694 0.2672209  0.44002375 0.47684086 0.52256532 0.62351544\n",
      " 0.75534442 0.89548694 0.92102138 0.92933492 0.90973872 0.87529691\n",
      " 0.79869359 0.66627078 0.54453682 0.45665083 0.36817102 0.30700713\n",
      " 0.24287411 0.16528243 0.11311806 0.06665185 0.02680812 0.03123825\n",
      " 0.0658844  0.12978271 0.2065191  0.33407381 0.47878048 0.59625667\n",
      " 0.6627239  0.68252093 0.68254858 0.66485733]\n",
      "15 day output [[0.620711]]\n",
      "16 day input [0.77375297 0.81650831 0.93942993 0.95724466 0.94299287 0.90261283\n",
      " 0.72684086 0.56591449 0.46852732 0.4043943  0.31294537 0.21912114\n",
      " 0.11401425 0.05047506 0.0391924  0.03741093 0.08016627 0.18349169\n",
      " 0.32125891 0.50178147 0.54513064 0.55463183 0.62529691 0.72980998\n",
      " 0.78622328 0.81710214 0.96437055 0.94893112 0.9263658  0.92220903\n",
      " 0.80760095 0.60273159 0.49406176 0.42814727 0.33847981 0.22268409\n",
      " 0.13836105 0.06710214 0.04572447 0.04275534 0.06710214 0.17577197\n",
      " 0.31057007 0.49287411 0.52375297 0.58847981 0.67458432 0.77434679\n",
      " 0.8283848  0.83966746 0.89608076 0.8111639  0.78859857 0.86401425\n",
      " 0.87232779 0.68527316 0.53622328 0.49049881 0.37826603 0.2672209\n",
      " 0.15261283 0.06888361 0.05581948 0.04097387 0.05225653 0.14548694\n",
      " 0.2672209  0.44002375 0.47684086 0.52256532 0.62351544 0.75534442\n",
      " 0.89548694 0.92102138 0.92933492 0.90973872 0.87529691 0.79869359\n",
      " 0.66627078 0.54453682 0.45665083 0.36817102 0.30700713 0.24287411\n",
      " 0.16528243 0.11311806 0.06665185 0.02680812 0.03123825 0.0658844\n",
      " 0.12978271 0.2065191  0.33407381 0.47878048 0.59625667 0.6627239\n",
      " 0.68252093 0.68254858 0.66485733 0.62071103]\n",
      "16 day output [[0.5596324]]\n",
      "17 day input [0.81650831 0.93942993 0.95724466 0.94299287 0.90261283 0.72684086\n",
      " 0.56591449 0.46852732 0.4043943  0.31294537 0.21912114 0.11401425\n",
      " 0.05047506 0.0391924  0.03741093 0.08016627 0.18349169 0.32125891\n",
      " 0.50178147 0.54513064 0.55463183 0.62529691 0.72980998 0.78622328\n",
      " 0.81710214 0.96437055 0.94893112 0.9263658  0.92220903 0.80760095\n",
      " 0.60273159 0.49406176 0.42814727 0.33847981 0.22268409 0.13836105\n",
      " 0.06710214 0.04572447 0.04275534 0.06710214 0.17577197 0.31057007\n",
      " 0.49287411 0.52375297 0.58847981 0.67458432 0.77434679 0.8283848\n",
      " 0.83966746 0.89608076 0.8111639  0.78859857 0.86401425 0.87232779\n",
      " 0.68527316 0.53622328 0.49049881 0.37826603 0.2672209  0.15261283\n",
      " 0.06888361 0.05581948 0.04097387 0.05225653 0.14548694 0.2672209\n",
      " 0.44002375 0.47684086 0.52256532 0.62351544 0.75534442 0.89548694\n",
      " 0.92102138 0.92933492 0.90973872 0.87529691 0.79869359 0.66627078\n",
      " 0.54453682 0.45665083 0.36817102 0.30700713 0.24287411 0.16528243\n",
      " 0.11311806 0.06665185 0.02680812 0.03123825 0.0658844  0.12978271\n",
      " 0.2065191  0.33407381 0.47878048 0.59625667 0.6627239  0.68252093\n",
      " 0.68254858 0.66485733 0.62071103 0.55963242]\n",
      "17 day output [[0.51033527]]\n",
      "18 day input [0.93942993 0.95724466 0.94299287 0.90261283 0.72684086 0.56591449\n",
      " 0.46852732 0.4043943  0.31294537 0.21912114 0.11401425 0.05047506\n",
      " 0.0391924  0.03741093 0.08016627 0.18349169 0.32125891 0.50178147\n",
      " 0.54513064 0.55463183 0.62529691 0.72980998 0.78622328 0.81710214\n",
      " 0.96437055 0.94893112 0.9263658  0.92220903 0.80760095 0.60273159\n",
      " 0.49406176 0.42814727 0.33847981 0.22268409 0.13836105 0.06710214\n",
      " 0.04572447 0.04275534 0.06710214 0.17577197 0.31057007 0.49287411\n",
      " 0.52375297 0.58847981 0.67458432 0.77434679 0.8283848  0.83966746\n",
      " 0.89608076 0.8111639  0.78859857 0.86401425 0.87232779 0.68527316\n",
      " 0.53622328 0.49049881 0.37826603 0.2672209  0.15261283 0.06888361\n",
      " 0.05581948 0.04097387 0.05225653 0.14548694 0.2672209  0.44002375\n",
      " 0.47684086 0.52256532 0.62351544 0.75534442 0.89548694 0.92102138\n",
      " 0.92933492 0.90973872 0.87529691 0.79869359 0.66627078 0.54453682\n",
      " 0.45665083 0.36817102 0.30700713 0.24287411 0.16528243 0.11311806\n",
      " 0.06665185 0.02680812 0.03123825 0.0658844  0.12978271 0.2065191\n",
      " 0.33407381 0.47878048 0.59625667 0.6627239  0.68252093 0.68254858\n"
     ]
    },
    {
     "name": "stdout",
     "output_type": "stream",
     "text": [
      " 0.66485733 0.62071103 0.55963242 0.51033527]\n",
      "18 day output [[0.4924566]]\n",
      "19 day input [0.95724466 0.94299287 0.90261283 0.72684086 0.56591449 0.46852732\n",
      " 0.4043943  0.31294537 0.21912114 0.11401425 0.05047506 0.0391924\n",
      " 0.03741093 0.08016627 0.18349169 0.32125891 0.50178147 0.54513064\n",
      " 0.55463183 0.62529691 0.72980998 0.78622328 0.81710214 0.96437055\n",
      " 0.94893112 0.9263658  0.92220903 0.80760095 0.60273159 0.49406176\n",
      " 0.42814727 0.33847981 0.22268409 0.13836105 0.06710214 0.04572447\n",
      " 0.04275534 0.06710214 0.17577197 0.31057007 0.49287411 0.52375297\n",
      " 0.58847981 0.67458432 0.77434679 0.8283848  0.83966746 0.89608076\n",
      " 0.8111639  0.78859857 0.86401425 0.87232779 0.68527316 0.53622328\n",
      " 0.49049881 0.37826603 0.2672209  0.15261283 0.06888361 0.05581948\n",
      " 0.04097387 0.05225653 0.14548694 0.2672209  0.44002375 0.47684086\n",
      " 0.52256532 0.62351544 0.75534442 0.89548694 0.92102138 0.92933492\n",
      " 0.90973872 0.87529691 0.79869359 0.66627078 0.54453682 0.45665083\n",
      " 0.36817102 0.30700713 0.24287411 0.16528243 0.11311806 0.06665185\n",
      " 0.02680812 0.03123825 0.0658844  0.12978271 0.2065191  0.33407381\n",
      " 0.47878048 0.59625667 0.6627239  0.68252093 0.68254858 0.66485733\n",
      " 0.62071103 0.55963242 0.51033527 0.49245659]\n",
      "19 day output [[0.46360433]]\n",
      "20 day input [0.94299287 0.90261283 0.72684086 0.56591449 0.46852732 0.4043943\n",
      " 0.31294537 0.21912114 0.11401425 0.05047506 0.0391924  0.03741093\n",
      " 0.08016627 0.18349169 0.32125891 0.50178147 0.54513064 0.55463183\n",
      " 0.62529691 0.72980998 0.78622328 0.81710214 0.96437055 0.94893112\n",
      " 0.9263658  0.92220903 0.80760095 0.60273159 0.49406176 0.42814727\n",
      " 0.33847981 0.22268409 0.13836105 0.06710214 0.04572447 0.04275534\n",
      " 0.06710214 0.17577197 0.31057007 0.49287411 0.52375297 0.58847981\n",
      " 0.67458432 0.77434679 0.8283848  0.83966746 0.89608076 0.8111639\n",
      " 0.78859857 0.86401425 0.87232779 0.68527316 0.53622328 0.49049881\n",
      " 0.37826603 0.2672209  0.15261283 0.06888361 0.05581948 0.04097387\n",
      " 0.05225653 0.14548694 0.2672209  0.44002375 0.47684086 0.52256532\n",
      " 0.62351544 0.75534442 0.89548694 0.92102138 0.92933492 0.90973872\n",
      " 0.87529691 0.79869359 0.66627078 0.54453682 0.45665083 0.36817102\n",
      " 0.30700713 0.24287411 0.16528243 0.11311806 0.06665185 0.02680812\n",
      " 0.03123825 0.0658844  0.12978271 0.2065191  0.33407381 0.47878048\n",
      " 0.59625667 0.6627239  0.68252093 0.68254858 0.66485733 0.62071103\n",
      " 0.55963242 0.51033527 0.49245659 0.46360433]\n",
      "20 day output [[0.38807055]]\n",
      "21 day input [0.90261283 0.72684086 0.56591449 0.46852732 0.4043943  0.31294537\n",
      " 0.21912114 0.11401425 0.05047506 0.0391924  0.03741093 0.08016627\n",
      " 0.18349169 0.32125891 0.50178147 0.54513064 0.55463183 0.62529691\n",
      " 0.72980998 0.78622328 0.81710214 0.96437055 0.94893112 0.9263658\n",
      " 0.92220903 0.80760095 0.60273159 0.49406176 0.42814727 0.33847981\n",
      " 0.22268409 0.13836105 0.06710214 0.04572447 0.04275534 0.06710214\n",
      " 0.17577197 0.31057007 0.49287411 0.52375297 0.58847981 0.67458432\n",
      " 0.77434679 0.8283848  0.83966746 0.89608076 0.8111639  0.78859857\n",
      " 0.86401425 0.87232779 0.68527316 0.53622328 0.49049881 0.37826603\n",
      " 0.2672209  0.15261283 0.06888361 0.05581948 0.04097387 0.05225653\n",
      " 0.14548694 0.2672209  0.44002375 0.47684086 0.52256532 0.62351544\n",
      " 0.75534442 0.89548694 0.92102138 0.92933492 0.90973872 0.87529691\n",
      " 0.79869359 0.66627078 0.54453682 0.45665083 0.36817102 0.30700713\n",
      " 0.24287411 0.16528243 0.11311806 0.06665185 0.02680812 0.03123825\n",
      " 0.0658844  0.12978271 0.2065191  0.33407381 0.47878048 0.59625667\n",
      " 0.6627239  0.68252093 0.68254858 0.66485733 0.62071103 0.55963242\n",
      " 0.51033527 0.49245659 0.46360433 0.38807055]\n",
      "21 day output [[0.30541697]]\n",
      "22 day input [0.72684086 0.56591449 0.46852732 0.4043943  0.31294537 0.21912114\n",
      " 0.11401425 0.05047506 0.0391924  0.03741093 0.08016627 0.18349169\n",
      " 0.32125891 0.50178147 0.54513064 0.55463183 0.62529691 0.72980998\n",
      " 0.78622328 0.81710214 0.96437055 0.94893112 0.9263658  0.92220903\n",
      " 0.80760095 0.60273159 0.49406176 0.42814727 0.33847981 0.22268409\n",
      " 0.13836105 0.06710214 0.04572447 0.04275534 0.06710214 0.17577197\n",
      " 0.31057007 0.49287411 0.52375297 0.58847981 0.67458432 0.77434679\n",
      " 0.8283848  0.83966746 0.89608076 0.8111639  0.78859857 0.86401425\n",
      " 0.87232779 0.68527316 0.53622328 0.49049881 0.37826603 0.2672209\n",
      " 0.15261283 0.06888361 0.05581948 0.04097387 0.05225653 0.14548694\n",
      " 0.2672209  0.44002375 0.47684086 0.52256532 0.62351544 0.75534442\n",
      " 0.89548694 0.92102138 0.92933492 0.90973872 0.87529691 0.79869359\n",
      " 0.66627078 0.54453682 0.45665083 0.36817102 0.30700713 0.24287411\n",
      " 0.16528243 0.11311806 0.06665185 0.02680812 0.03123825 0.0658844\n",
      " 0.12978271 0.2065191  0.33407381 0.47878048 0.59625667 0.6627239\n",
      " 0.68252093 0.68254858 0.66485733 0.62071103 0.55963242 0.51033527\n",
      " 0.49245659 0.46360433 0.38807055 0.30541697]\n",
      "22 day output [[0.2224743]]\n",
      "23 day input [0.56591449 0.46852732 0.4043943  0.31294537 0.21912114 0.11401425\n",
      " 0.05047506 0.0391924  0.03741093 0.08016627 0.18349169 0.32125891\n",
      " 0.50178147 0.54513064 0.55463183 0.62529691 0.72980998 0.78622328\n",
      " 0.81710214 0.96437055 0.94893112 0.9263658  0.92220903 0.80760095\n",
      " 0.60273159 0.49406176 0.42814727 0.33847981 0.22268409 0.13836105\n",
      " 0.06710214 0.04572447 0.04275534 0.06710214 0.17577197 0.31057007\n",
      " 0.49287411 0.52375297 0.58847981 0.67458432 0.77434679 0.8283848\n",
      " 0.83966746 0.89608076 0.8111639  0.78859857 0.86401425 0.87232779\n",
      " 0.68527316 0.53622328 0.49049881 0.37826603 0.2672209  0.15261283\n",
      " 0.06888361 0.05581948 0.04097387 0.05225653 0.14548694 0.2672209\n",
      " 0.44002375 0.47684086 0.52256532 0.62351544 0.75534442 0.89548694\n",
      " 0.92102138 0.92933492 0.90973872 0.87529691 0.79869359 0.66627078\n",
      " 0.54453682 0.45665083 0.36817102 0.30700713 0.24287411 0.16528243\n",
      " 0.11311806 0.06665185 0.02680812 0.03123825 0.0658844  0.12978271\n",
      " 0.2065191  0.33407381 0.47878048 0.59625667 0.6627239  0.68252093\n",
      " 0.68254858 0.66485733 0.62071103 0.55963242 0.51033527 0.49245659\n",
      " 0.46360433 0.38807055 0.30541697 0.22247431]\n",
      "23 day output [[0.14404982]]\n",
      "24 day input [0.46852732 0.4043943  0.31294537 0.21912114 0.11401425 0.05047506\n",
      " 0.0391924  0.03741093 0.08016627 0.18349169 0.32125891 0.50178147\n",
      " 0.54513064 0.55463183 0.62529691 0.72980998 0.78622328 0.81710214\n",
      " 0.96437055 0.94893112 0.9263658  0.92220903 0.80760095 0.60273159\n",
      " 0.49406176 0.42814727 0.33847981 0.22268409 0.13836105 0.06710214\n",
      " 0.04572447 0.04275534 0.06710214 0.17577197 0.31057007 0.49287411\n",
      " 0.52375297 0.58847981 0.67458432 0.77434679 0.8283848  0.83966746\n",
      " 0.89608076 0.8111639  0.78859857 0.86401425 0.87232779 0.68527316\n",
      " 0.53622328 0.49049881 0.37826603 0.2672209  0.15261283 0.06888361\n",
      " 0.05581948 0.04097387 0.05225653 0.14548694 0.2672209  0.44002375\n",
      " 0.47684086 0.52256532 0.62351544 0.75534442 0.89548694 0.92102138\n",
      " 0.92933492 0.90973872 0.87529691 0.79869359 0.66627078 0.54453682\n",
      " 0.45665083 0.36817102 0.30700713 0.24287411 0.16528243 0.11311806\n",
      " 0.06665185 0.02680812 0.03123825 0.0658844  0.12978271 0.2065191\n",
      " 0.33407381 0.47878048 0.59625667 0.6627239  0.68252093 0.68254858\n",
      " 0.66485733 0.62071103 0.55963242 0.51033527 0.49245659 0.46360433\n",
      " 0.38807055 0.30541697 0.22247431 0.14404982]\n",
      "24 day output [[0.0869583]]\n",
      "25 day input [0.4043943  0.31294537 0.21912114 0.11401425 0.05047506 0.0391924\n",
      " 0.03741093 0.08016627 0.18349169 0.32125891 0.50178147 0.54513064\n",
      " 0.55463183 0.62529691 0.72980998 0.78622328 0.81710214 0.96437055\n",
      " 0.94893112 0.9263658  0.92220903 0.80760095 0.60273159 0.49406176\n",
      " 0.42814727 0.33847981 0.22268409 0.13836105 0.06710214 0.04572447\n",
      " 0.04275534 0.06710214 0.17577197 0.31057007 0.49287411 0.52375297\n",
      " 0.58847981 0.67458432 0.77434679 0.8283848  0.83966746 0.89608076\n",
      " 0.8111639  0.78859857 0.86401425 0.87232779 0.68527316 0.53622328\n",
      " 0.49049881 0.37826603 0.2672209  0.15261283 0.06888361 0.05581948\n",
      " 0.04097387 0.05225653 0.14548694 0.2672209  0.44002375 0.47684086\n",
      " 0.52256532 0.62351544 0.75534442 0.89548694 0.92102138 0.92933492\n",
      " 0.90973872 0.87529691 0.79869359 0.66627078 0.54453682 0.45665083\n",
      " 0.36817102 0.30700713 0.24287411 0.16528243 0.11311806 0.06665185\n",
      " 0.02680812 0.03123825 0.0658844  0.12978271 0.2065191  0.33407381\n",
      " 0.47878048 0.59625667 0.6627239  0.68252093 0.68254858 0.66485733\n",
      " 0.62071103 0.55963242 0.51033527 0.49245659 0.46360433 0.38807055\n",
      " 0.30541697 0.22247431 0.14404982 0.0869583 ]\n",
      "25 day output [[0.05624207]]\n",
      "26 day input [0.31294537 0.21912114 0.11401425 0.05047506 0.0391924  0.03741093\n",
      " 0.08016627 0.18349169 0.32125891 0.50178147 0.54513064 0.55463183\n",
      " 0.62529691 0.72980998 0.78622328 0.81710214 0.96437055 0.94893112\n",
      " 0.9263658  0.92220903 0.80760095 0.60273159 0.49406176 0.42814727\n",
      " 0.33847981 0.22268409 0.13836105 0.06710214 0.04572447 0.04275534\n",
      " 0.06710214 0.17577197 0.31057007 0.49287411 0.52375297 0.58847981\n",
      " 0.67458432 0.77434679 0.8283848  0.83966746 0.89608076 0.8111639\n",
      " 0.78859857 0.86401425 0.87232779 0.68527316 0.53622328 0.49049881\n",
      " 0.37826603 0.2672209  0.15261283 0.06888361 0.05581948 0.04097387\n",
      " 0.05225653 0.14548694 0.2672209  0.44002375 0.47684086 0.52256532\n",
      " 0.62351544 0.75534442 0.89548694 0.92102138 0.92933492 0.90973872\n",
      " 0.87529691 0.79869359 0.66627078 0.54453682 0.45665083 0.36817102\n",
      " 0.30700713 0.24287411 0.16528243 0.11311806 0.06665185 0.02680812\n",
      " 0.03123825 0.0658844  0.12978271 0.2065191  0.33407381 0.47878048\n",
      " 0.59625667 0.6627239  0.68252093 0.68254858 0.66485733 0.62071103\n",
      " 0.55963242 0.51033527 0.49245659 0.46360433 0.38807055 0.30541697\n",
      " 0.22247431 0.14404982 0.0869583  0.05624207]\n",
      "26 day output [[0.05050331]]\n",
      "27 day input [0.21912114 0.11401425 0.05047506 0.0391924  0.03741093 0.08016627\n",
      " 0.18349169 0.32125891 0.50178147 0.54513064 0.55463183 0.62529691\n",
      " 0.72980998 0.78622328 0.81710214 0.96437055 0.94893112 0.9263658\n",
      " 0.92220903 0.80760095 0.60273159 0.49406176 0.42814727 0.33847981\n",
      " 0.22268409 0.13836105 0.06710214 0.04572447 0.04275534 0.06710214\n",
      " 0.17577197 0.31057007 0.49287411 0.52375297 0.58847981 0.67458432\n",
      " 0.77434679 0.8283848  0.83966746 0.89608076 0.8111639  0.78859857\n",
      " 0.86401425 0.87232779 0.68527316 0.53622328 0.49049881 0.37826603\n",
      " 0.2672209  0.15261283 0.06888361 0.05581948 0.04097387 0.05225653\n",
      " 0.14548694 0.2672209  0.44002375 0.47684086 0.52256532 0.62351544\n",
      " 0.75534442 0.89548694 0.92102138 0.92933492 0.90973872 0.87529691\n",
      " 0.79869359 0.66627078 0.54453682 0.45665083 0.36817102 0.30700713\n",
      " 0.24287411 0.16528243 0.11311806 0.06665185 0.02680812 0.03123825\n",
      " 0.0658844  0.12978271 0.2065191  0.33407381 0.47878048 0.59625667\n",
      " 0.6627239  0.68252093 0.68254858 0.66485733 0.62071103 0.55963242\n",
      " 0.51033527 0.49245659 0.46360433 0.38807055 0.30541697 0.22247431\n",
      " 0.14404982 0.0869583  0.05624207 0.05050331]\n"
     ]
    },
    {
     "name": "stdout",
     "output_type": "stream",
     "text": [
      "27 day output [[0.08723472]]\n",
      "28 day input [0.11401425 0.05047506 0.0391924  0.03741093 0.08016627 0.18349169\n",
      " 0.32125891 0.50178147 0.54513064 0.55463183 0.62529691 0.72980998\n",
      " 0.78622328 0.81710214 0.96437055 0.94893112 0.9263658  0.92220903\n",
      " 0.80760095 0.60273159 0.49406176 0.42814727 0.33847981 0.22268409\n",
      " 0.13836105 0.06710214 0.04572447 0.04275534 0.06710214 0.17577197\n",
      " 0.31057007 0.49287411 0.52375297 0.58847981 0.67458432 0.77434679\n",
      " 0.8283848  0.83966746 0.89608076 0.8111639  0.78859857 0.86401425\n",
      " 0.87232779 0.68527316 0.53622328 0.49049881 0.37826603 0.2672209\n",
      " 0.15261283 0.06888361 0.05581948 0.04097387 0.05225653 0.14548694\n",
      " 0.2672209  0.44002375 0.47684086 0.52256532 0.62351544 0.75534442\n",
      " 0.89548694 0.92102138 0.92933492 0.90973872 0.87529691 0.79869359\n",
      " 0.66627078 0.54453682 0.45665083 0.36817102 0.30700713 0.24287411\n",
      " 0.16528243 0.11311806 0.06665185 0.02680812 0.03123825 0.0658844\n",
      " 0.12978271 0.2065191  0.33407381 0.47878048 0.59625667 0.6627239\n",
      " 0.68252093 0.68254858 0.66485733 0.62071103 0.55963242 0.51033527\n",
      " 0.49245659 0.46360433 0.38807055 0.30541697 0.22247431 0.14404982\n",
      " 0.0869583  0.05624207 0.05050331 0.08723472]\n",
      "28 day output [[0.19756019]]\n",
      "29 day input [0.05047506 0.0391924  0.03741093 0.08016627 0.18349169 0.32125891\n",
      " 0.50178147 0.54513064 0.55463183 0.62529691 0.72980998 0.78622328\n",
      " 0.81710214 0.96437055 0.94893112 0.9263658  0.92220903 0.80760095\n",
      " 0.60273159 0.49406176 0.42814727 0.33847981 0.22268409 0.13836105\n",
      " 0.06710214 0.04572447 0.04275534 0.06710214 0.17577197 0.31057007\n",
      " 0.49287411 0.52375297 0.58847981 0.67458432 0.77434679 0.8283848\n",
      " 0.83966746 0.89608076 0.8111639  0.78859857 0.86401425 0.87232779\n",
      " 0.68527316 0.53622328 0.49049881 0.37826603 0.2672209  0.15261283\n",
      " 0.06888361 0.05581948 0.04097387 0.05225653 0.14548694 0.2672209\n",
      " 0.44002375 0.47684086 0.52256532 0.62351544 0.75534442 0.89548694\n",
      " 0.92102138 0.92933492 0.90973872 0.87529691 0.79869359 0.66627078\n",
      " 0.54453682 0.45665083 0.36817102 0.30700713 0.24287411 0.16528243\n",
      " 0.11311806 0.06665185 0.02680812 0.03123825 0.0658844  0.12978271\n",
      " 0.2065191  0.33407381 0.47878048 0.59625667 0.6627239  0.68252093\n",
      " 0.68254858 0.66485733 0.62071103 0.55963242 0.51033527 0.49245659\n",
      " 0.46360433 0.38807055 0.30541697 0.22247431 0.14404982 0.0869583\n",
      " 0.05624207 0.05050331 0.08723472 0.19756019]\n",
      "29 day output [[0.3227845]]\n",
      "[[0.16528242826461792], [0.11311805993318558], [0.066651850938797], [0.0268081221729517], [0.03123825043439865], [0.06588439643383026], [0.12978270649909973], [0.20651909708976746], [0.3340738117694855], [0.47878047823905945], [0.596256673336029], [0.6627238988876343], [0.6825209259986877], [0.6825485825538635], [0.6648573279380798], [0.6207110285758972], [0.559632420539856], [0.5103352665901184], [0.4924565851688385], [0.4636043310165405], [0.38807055354118347], [0.3054169714450836], [0.22247430682182312], [0.14404982328414917], [0.08695830404758453], [0.056242071092128754], [0.05050330609083176], [0.08723472058773041], [0.19756019115447998], [0.32278451323509216]]\n"
     ]
    }
   ],
   "source": [
    "# demonstrate prediction for next 30 days\n",
    "from numpy import array\n",
    "\n",
    "lst_output=[]\n",
    "n_steps=100\n",
    "i=0\n",
    "while(i<30):\n",
    "    \n",
    "    if(len(temp_input)>100):\n",
    "        #print(temp_input)\n",
    "        x_input=np.array(temp_input[1:])\n",
    "        print(\"{} day input {}\".format(i,x_input))\n",
    "        x_input=x_input.reshape(1,-1)\n",
    "        x_input = x_input.reshape((1, n_steps, 1))\n",
    "        #print(x_input)\n",
    "        yhat = model.predict(x_input, verbose=0)\n",
    "        print(\"{} day output {}\".format(i,yhat))\n",
    "        temp_input.extend(yhat[0].tolist())\n",
    "        temp_input=temp_input[1:]\n",
    "        #print(temp_input)\n",
    "        lst_output.extend(yhat.tolist())\n",
    "        i=i+1\n",
    "    else:\n",
    "        x_input = x_input.reshape((1, n_steps,1))\n",
    "        yhat = model.predict(x_input, verbose=0)\n",
    "        print(yhat[0])\n",
    "        temp_input.extend(yhat[0].tolist())\n",
    "        print(len(temp_input))\n",
    "        lst_output.extend(yhat.tolist())\n",
    "        i=i+1\n",
    "    \n",
    "\n",
    "print(lst_output)"
   ]
  },
  {
   "cell_type": "code",
   "execution_count": 44,
   "id": "72484da4",
   "metadata": {},
   "outputs": [],
   "source": [
    "day_new=np.arange(1,101)\n",
    "day_pred=np.arange(101,131)"
   ]
  },
  {
   "cell_type": "code",
   "execution_count": 45,
   "id": "a24a3d70",
   "metadata": {},
   "outputs": [],
   "source": [
    "%matplotlib inline\n",
    "import matplotlib.pyplot as plt"
   ]
  },
  {
   "cell_type": "code",
   "execution_count": 46,
   "id": "01bf2719",
   "metadata": {},
   "outputs": [
    {
     "data": {
      "text/plain": [
       "8740"
      ]
     },
     "execution_count": 46,
     "metadata": {},
     "output_type": "execute_result"
    }
   ],
   "source": [
    "len(df1)"
   ]
  },
  {
   "cell_type": "code",
   "execution_count": 47,
   "id": "5d49f668",
   "metadata": {},
   "outputs": [
    {
     "data": {
      "text/plain": [
       "[<matplotlib.lines.Line2D at 0x1a1d50fce80>]"
      ]
     },
     "execution_count": 47,
     "metadata": {},
     "output_type": "execute_result"
    },
    {
     "data": {
      "image/png": "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\n",
      "text/plain": [
       "<Figure size 720x720 with 1 Axes>"
      ]
     },
     "metadata": {
      "needs_background": "light"
     },
     "output_type": "display_data"
    }
   ],
   "source": [
    "fig = plt.figure(figsize=(10, 10))\n",
    "plt.plot(day_new,scaler.inverse_transform(df1[8640:]))\n",
    "plt.plot(day_pred,scaler.inverse_transform(lst_output))"
   ]
  },
  {
   "cell_type": "code",
   "execution_count": 48,
   "id": "5139f987",
   "metadata": {},
   "outputs": [
    {
     "data": {
      "text/plain": [
       "[<matplotlib.lines.Line2D at 0x1a1e6360f70>]"
      ]
     },
     "execution_count": 48,
     "metadata": {},
     "output_type": "execute_result"
    },
    {
     "data": {
      "image/png": "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\n",
      "text/plain": [
       "<Figure size 720x720 with 1 Axes>"
      ]
     },
     "metadata": {
      "needs_background": "light"
     },
     "output_type": "display_data"
    }
   ],
   "source": [
    "df3=df1.tolist()\n",
    "df3.extend(lst_output)\n",
    "fig = plt.figure(figsize=(10, 10))\n",
    "plt.plot(df3[1200:])"
   ]
  },
  {
   "cell_type": "code",
   "execution_count": 49,
   "id": "e879e29b",
   "metadata": {},
   "outputs": [],
   "source": [
    "df3=scaler.inverse_transform(df3).tolist()"
   ]
  },
  {
   "cell_type": "code",
   "execution_count": 50,
   "id": "2c2b4b27",
   "metadata": {},
   "outputs": [
    {
     "data": {
      "text/plain": [
       "[<matplotlib.lines.Line2D at 0x1a1e6586e50>]"
      ]
     },
     "execution_count": 50,
     "metadata": {},
     "output_type": "execute_result"
    },
    {
     "data": {
      "image/png": "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\n",
      "text/plain": [
       "<Figure size 720x720 with 1 Axes>"
      ]
     },
     "metadata": {
      "needs_background": "light"
     },
     "output_type": "display_data"
    }
   ],
   "source": [
    "fig = plt.figure(figsize=(10, 10))\n",
    "plt.plot(df3)"
   ]
  },
  {
   "cell_type": "code",
   "execution_count": null,
   "id": "7946415b",
   "metadata": {},
   "outputs": [],
   "source": []
  }
 ],
 "metadata": {
  "kernelspec": {
   "display_name": "Python 3 (ipykernel)",
   "language": "python",
   "name": "python3"
  },
  "language_info": {
   "codemirror_mode": {
    "name": "ipython",
    "version": 3
   },
   "file_extension": ".py",
   "mimetype": "text/x-python",
   "name": "python",
   "nbconvert_exporter": "python",
   "pygments_lexer": "ipython3",
   "version": "3.9.12"
  }
 },
 "nbformat": 4,
 "nbformat_minor": 5
}
